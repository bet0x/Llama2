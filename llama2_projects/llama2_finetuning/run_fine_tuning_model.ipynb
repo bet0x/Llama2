{
 "cells": [
  {
   "cell_type": "code",
   "execution_count": null,
   "metadata": {},
   "outputs": [],
   "source": [
    "from transformers import AutoModelForCausalLM, AutoTokenizer\n",
    "from torch.nn import DataParallel\n",
    "import torch\n",
    "torch.cuda.empty_cache()\n",
    "\n",
    "torch.cuda.memory_summary(device=None, abbreviated=False)\n",
    "import gc\n",
    "torch.cuda.empty_cache()\n",
    "gc.collect()"
   ]
  },
  {
   "cell_type": "markdown",
   "metadata": {},
   "source": [
    "## To run locally"
   ]
  },
  {
   "cell_type": "code",
   "execution_count": null,
   "metadata": {},
   "outputs": [],
   "source": [
    "model = r\"D:/Llama-2-7b-finetune-v2\"\n",
    "\n",
    "tokenizer = AutoTokenizer.from_pretrained(model)\n",
    "model = AutoModelForCausalLM.from_pretrained(model)\n",
    "\n",
    "#tokenizer = AutoTokenizer.from_pretrained(\"Captluke/Llama-2-7b-finetune-v1\")\n",
    "#model = AutoModelForCausalLM.from_pretrained(\"Captluke/Llama-2-7b-finetune-v1\")"
   ]
  },
  {
   "cell_type": "code",
   "execution_count": null,
   "metadata": {},
   "outputs": [],
   "source": [
    "model.cuda(\"cuda\")\n",
    "#model = DataParallel(model)\n",
    "\n",
    "input_context = '''\n",
    "###Human:\n",
    "what is Flatpv ?\n",
    "\n",
    "###Assistant:\n",
    "'''\n",
    "\n",
    "input_ids = tokenizer.encode(input_context, return_tensors=\"pt\")\n",
    "output = model.generate(input_ids, max_length=85, temperature=0.3, num_return_sequences=1)\n",
    "generated_text = tokenizer.decode(output[0], skip_special_tokenz=True)\n",
    "print(generated_text)"
   ]
  },
  {
   "cell_type": "code",
   "execution_count": null,
   "metadata": {},
   "outputs": [],
   "source": [
    "# Load Model"
   ]
  },
  {
   "cell_type": "code",
   "execution_count": null,
   "metadata": {},
   "outputs": [],
   "source": [
    "from transformers import AutoTokenizer\n",
    "from langchain.llms import HuggingFacePipeline\n",
    "import transformers\n",
    "import torch\n",
    "import warnings\n",
    "warnings.filterwarnings('ignore')\n",
    "\n",
    "model = r\"D:/Llama-2-7b-finetune-v2\"\n",
    "#model = \"Captluke/Llama-2-7b-finetune-v1\"\n",
    "\n",
    "tokenizer = AutoTokenizer.from_pretrained(model)\n",
    "pipeline=transformers.pipeline(\n",
    "    \"text-generation\",\n",
    "    model=model,\n",
    "    tokenizer=tokenizer,\n",
    "    torch_dtype=torch.bfloat16,\n",
    "    trust_remote_code=True,\n",
    "    device_map=\"auto\",\n",
    "    max_length=1000,\n",
    "    do_sample=True,\n",
    "    top_k=10,\n",
    "    num_return_sequences=1,\n",
    "    eos_token_id=tokenizer.eos_token_id\n",
    "    )\n",
    "llm=HuggingFacePipeline(pipeline=pipeline, model_kwargs={'temperature':0})\n",
    "\n",
    "prompt = '''\n",
    "###Human:\n",
    "what is Flatpv ?\n",
    "\n",
    "###Assistant:\n",
    "'''\n",
    "\n",
    "print(llm(prompt))"
   ]
  },
  {
   "cell_type": "markdown",
   "metadata": {},
   "source": [
    "## To run from from Hugging Face"
   ]
  },
  {
   "cell_type": "code",
   "execution_count": null,
   "metadata": {},
   "outputs": [],
   "source": [
    "from transformers import AutoModelForCausalLM, AutoTokenizer\n",
    "from torch.nn import DataParallel\n",
    "from langchain.llms import HuggingFacePipeline\n",
    "import transformers\n",
    "import locale\n",
    "locale.getpreferredencoding = lambda: \"UTF-8\""
   ]
  },
  {
   "cell_type": "code",
   "execution_count": null,
   "metadata": {},
   "outputs": [],
   "source": [
    "tokenizer = AutoTokenizer.from_pretrained(\"Captluke/Llama-2-7b-finetune-v3\")\n",
    "model = AutoModelForCausalLM.from_pretrained(\"Captluke/Llama-2-7b-finetune-v3\")"
   ]
  },
  {
   "cell_type": "code",
   "execution_count": null,
   "metadata": {},
   "outputs": [],
   "source": [
    "#model.cuda(\"cuda\")\n",
    "#model = DataParallel(model)\n",
    "\n",
    "input_context = '''\n",
    "###Human:\n",
    "what is Flatpv ?\n",
    "\n",
    "###Assistant:\n",
    "'''\n",
    "\n",
    "input_ids = tokenizer.encode(input_context, return_tensors=\"pt\")\n",
    "output = model.generate(input_ids, max_length=85, temperature=0.3, num_return_sequences=1)\n",
    "generated_text = tokenizer.decode(output[0], skip_special_tokenz=True)\n",
    "print(generated_text)"
   ]
  }
 ],
 "metadata": {
  "kernelspec": {
   "display_name": "LLAMA",
   "language": "python",
   "name": "python3"
  },
  "language_info": {
   "codemirror_mode": {
    "name": "ipython",
    "version": 3
   },
   "file_extension": ".py",
   "mimetype": "text/x-python",
   "name": "python",
   "nbconvert_exporter": "python",
   "pygments_lexer": "ipython3",
   "version": "3.11.4"
  },
  "orig_nbformat": 4
 },
 "nbformat": 4,
 "nbformat_minor": 2
}
