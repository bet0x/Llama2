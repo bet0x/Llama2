{
 "cells": [
  {
   "cell_type": "markdown",
   "metadata": {},
   "source": [
    "# Step 1: Install all the required Packages"
   ]
  },
  {
   "cell_type": "markdown",
   "metadata": {},
   "source": [
    "```\n",
    "!pip install langchain\n",
    "!pip install openai\n",
    "!pip install PyPDF2\n",
    "!pip install faiss-cpu\n",
    "!pip install tiktoken\n",
    "\n",
    "```"
   ]
  },
  {
   "cell_type": "markdown",
   "metadata": {},
   "source": [
    "## Step 2: Import the required libraries"
   ]
  },
  {
   "cell_type": "code",
   "execution_count": 1,
   "metadata": {},
   "outputs": [],
   "source": [
    "from PyPDF2 import PdfReader\n",
    "from langchain.embeddings.openai import OpenAIEmbeddings\n",
    "from langchain.text_splitter import CharacterTextSplitter\n",
    "from langchain.text_splitter import RecursiveCharacterTextSplitter \n",
    "from langchain.vectorstores import ElasticVectorSearch, Pinecone, Weaviate, FAISS\n",
    "from langchain.embeddings import HuggingFaceEmbeddings\n",
    "from langchain.document_loaders import PyPDFLoader\n"
   ]
  },
  {
   "cell_type": "markdown",
   "metadata": {},
   "source": [
    "## Method 1: Extracting Text from PDF Document using PDF reader - For ChatGPT"
   ]
  },
  {
   "cell_type": "code",
   "execution_count": 2,
   "metadata": {},
   "outputs": [
    {
     "name": "stderr",
     "output_type": "stream",
     "text": [
      "incorrect startxref pointer(1)\n"
     ]
    }
   ],
   "source": [
    "data = r\"C:/Users/Lukas/Desktop/My_Projects/To_Upload/Llama2/llama2_projects/llama2_pdf_chatbot_faiss_windows/data/Hotline_Wiki.pdf\"\n",
    "reader = PdfReader(data)\n",
    "\n",
    "# loader = PyPDFLoader(data)\n",
    "# pages = loader.load_and_split()\n",
    "# pages"
   ]
  },
  {
   "cell_type": "markdown",
   "metadata": {},
   "source": [
    "## Read Data from PDF file and put it into vriable raw_text"
   ]
  },
  {
   "cell_type": "code",
   "execution_count": null,
   "metadata": {},
   "outputs": [],
   "source": [
    "# It will go to each page and read text from each page, raw_text file contain all the text\n",
    "raw_text = ''\n",
    "for i, page in enumerate(reader.pages):\n",
    "    text = page.extract_text()\n",
    "    if text:\n",
    "        raw_text += text"
   ]
  },
  {
   "cell_type": "code",
   "execution_count": null,
   "metadata": {},
   "outputs": [],
   "source": [
    "raw_text"
   ]
  },
  {
   "cell_type": "code",
   "execution_count": null,
   "metadata": {},
   "outputs": [],
   "source": [
    "raw_text[:100]"
   ]
  },
  {
   "cell_type": "markdown",
   "metadata": {},
   "source": [
    "## Split Text into Smaller Chunks"
   ]
  },
  {
   "cell_type": "code",
   "execution_count": null,
   "metadata": {},
   "outputs": [],
   "source": [
    "# Here we'll split the text we read into smaller chunks so that during information retrieval we don't hit the maximum token limit.\n",
    "# Token limit for llama is 16000 words - 4000 tokens\n",
    "\n",
    "textSplitter = CharacterTextSplitter(\n",
    "    separator=\"\\n\",\n",
    "    chunk_size=500,\n",
    "    chunk_overlap = 50,\n",
    "    \n",
    "    #chunk size of 1000 token each and there is going to be overlap of 200 tokens between the consecutive chunks\n",
    "    #first chunk is 1000 characters long, next chunk will include 200 characters from 1st Chunk\n",
    "    \n",
    "    length_function=len\n",
    ")\n",
    "textSplitter\n",
    "\n",
    "# textSplitter = RecursiveCharacterTextSplitter(\n",
    "#     chunk_size=1000,\n",
    "#     chunk_overlap=200\n",
    "# )"
   ]
  },
  {
   "cell_type": "code",
   "execution_count": null,
   "metadata": {},
   "outputs": [],
   "source": [
    "## Now to convert text into chunks we will use text splitter\n",
    "texts = textSplitter.split_text(raw_text)\n",
    "texts"
   ]
  },
  {
   "cell_type": "code",
   "execution_count": null,
   "metadata": {},
   "outputs": [],
   "source": [
    "len(texts)"
   ]
  },
  {
   "cell_type": "code",
   "execution_count": null,
   "metadata": {},
   "outputs": [],
   "source": [
    "texts[0]"
   ]
  },
  {
   "cell_type": "code",
   "execution_count": null,
   "metadata": {},
   "outputs": [],
   "source": [
    "texts[1]"
   ]
  },
  {
   "cell_type": "markdown",
   "metadata": {},
   "source": [
    "## Method 2: Extracting Text from PDF Document using PDF reader - For ChatGPT"
   ]
  },
  {
   "cell_type": "markdown",
   "metadata": {},
   "source": [
    "## Read Data from PDF file and put it into vriable text"
   ]
  },
  {
   "cell_type": "code",
   "execution_count": null,
   "metadata": {},
   "outputs": [],
   "source": [
    "reader = PdfReader(data)\n",
    "text = \"\"\n",
    "for page in reader.pages:\n",
    "    text+=page.extract_text()\n",
    "text"
   ]
  },
  {
   "cell_type": "markdown",
   "metadata": {},
   "source": [
    "## Split Text into Smaller Chunks"
   ]
  },
  {
   "cell_type": "code",
   "execution_count": null,
   "metadata": {},
   "outputs": [],
   "source": [
    "text_splitter = RecursiveCharacterTextSplitter(chunk_size=1000, chunk_overlap=200, length_function=len)"
   ]
  },
  {
   "cell_type": "code",
   "execution_count": null,
   "metadata": {},
   "outputs": [],
   "source": [
    "chunks = text_splitter.split_text(text)\n",
    "chunks"
   ]
  },
  {
   "cell_type": "markdown",
   "metadata": {},
   "source": [
    "## Method 3: Extracting Text from PDF Document - For Llama 2"
   ]
  },
  {
   "cell_type": "code",
   "execution_count": 3,
   "metadata": {},
   "outputs": [
    {
     "name": "stderr",
     "output_type": "stream",
     "text": [
      "incorrect startxref pointer(1)\n"
     ]
    }
   ],
   "source": [
    "loader = PyPDFLoader(data)\n",
    "data = loader.load()"
   ]
  },
  {
   "cell_type": "code",
   "execution_count": 4,
   "metadata": {},
   "outputs": [],
   "source": [
    "text_splitter = RecursiveCharacterTextSplitter(chunk_size=500, chunk_overlap=50, length_function=len)"
   ]
  },
  {
   "cell_type": "code",
   "execution_count": 5,
   "metadata": {},
   "outputs": [
    {
     "data": {
      "text/plain": [
       "[Document(page_content=\"Question: internal my X-FAB (SiFo) account\\nAnswer: Follow the normal setup procedure (see\\nhttp://sp.erf.xfab.de/RandD/DesSup/Hotline/AX_ACM-workflow-2020Mar.docx - or newer version if it\\nexists), but: (i) The username in AX should be preceded by 'FO_' to clearly identify them as X-FAB\\nusers (ii) include the following text in your answer: Thank you for your request. To access the SiFo\\nsystem, you need to have your own my X-FAB account, which I have set up for you. You will soon\", metadata={'source': 'C:/Users/Lukas/Desktop/My_Projects/To_Upload/Llama2/llama2_projects/llama2_pdf_chatbot_faiss_windows/data/Hotline_Wiki.pdf', 'page': 0}),\n",
       " Document(page_content='receive an automatically generated email with your account username (a 5-digit number) and a link to\\nestablish your password (the link is valid for 7 days). That link will work fine outside the X-FAB network,\\nbut internally you’ll need to modify the URL for it to work. You would need to add -fo to the first part of\\nthe URL like this: https://identity-fo.xfab.com/... After establishing your password, to log into your', metadata={'source': 'C:/Users/Lukas/Desktop/My_Projects/To_Upload/Llama2/llama2_projects/llama2_pdf_chatbot_faiss_windows/data/Hotline_Wiki.pdf', 'page': 0}),\n",
       " Document(page_content=\"account you’ll need to use this page for internal access: https://fo.xfab.com/ whereas externally you\\nwould log in from this page: https://my.xfab.com/\\nQuestion: Voltage Class Tags\\nAnswer: Scan through those tickets for clues depending on the specific question 63023372 article 4\\nprovides links to related Jira tickets DSBU-1064 / DSBU-1128 / DSBU-1435 63040485 discusses\\napplication to HV IO's 63009953 has some nice general descriptions on how to apply the checks\", metadata={'source': 'C:/Users/Lukas/Desktop/My_Projects/To_Upload/Llama2/llama2_projects/llama2_pdf_chatbot_faiss_windows/data/Hotline_Wiki.pdf', 'page': 0}),\n",
       " Document(page_content='Question: Customer upload of X-FAB data to the\\nCloud\\nAnswer: This is possible, but only if written permission to do so is first received from X-FAB. To gain\\nsuch written permission, please contact Hotline who will ask you to complete a questionnaire explaining\\nthe legal status of the hosting arrangement. The responses will be reviewed by X-FAB before a\\ndecision is given.\\nQuestion: DMIM antenna DRC flag debugging', metadata={'source': 'C:/Users/Lukas/Desktop/My_Projects/To_Upload/Llama2/llama2_projects/llama2_pdf_chatbot_faiss_windows/data/Hotline_Wiki.pdf', 'page': 0}),\n",
       " Document(page_content='Question: DMIM antenna DRC flag debugging\\nAnswer: browse tickets for ideas, esp article 14 in former, general guidance to customers in latter\\nQuestion: Pcell: PowerMetal1 vs PowerMetal2\\nAnswer: See article 23 for description of differences', metadata={'source': 'C:/Users/Lukas/Desktop/My_Projects/To_Upload/Llama2/llama2_projects/llama2_pdf_chatbot_faiss_windows/data/Hotline_Wiki.pdf', 'page': 0}),\n",
       " Document(page_content='Question: What is the surface roughness with\\nFLATPV vs SFLATPV modules?\\nAnswer: Roughness of standard passivation is not specified, and therefore not a parameter which the\\ncustomer should rely on. If surface roughness is critical, customer should specify either the FLATPV\\nmodule (for which the surface roughness is expected to be ~2.13nm Ra) or SFLATPV (for which the\\nsurface roughness is expected to be ~0.18nm Ra) - note that these are sample values and are not', metadata={'source': 'C:/Users/Lukas/Desktop/My_Projects/To_Upload/Llama2/llama2_projects/llama2_pdf_chatbot_faiss_windows/data/Hotline_Wiki.pdf', 'page': 1}),\n",
       " Document(page_content='guaranteed. Note that these additional modules affect the final passivation thickness - see parameters\\nTHV_FLAT & THV_SFLAT.\\nQuestion: How are the MLM layers grouped in each\\nreticle?\\nAnswer: In AX device page, you can go to MGO tab (right side) to view. From the MGO page, you can\\nsee the item name which shows the 4MLM layers arrangement. Normally we don’t disclose the barcode\\n(item number) to customer. You can extract the info into the excel format at the top.', metadata={'source': 'C:/Users/Lukas/Desktop/My_Projects/To_Upload/Llama2/llama2_projects/llama2_pdf_chatbot_faiss_windows/data/Hotline_Wiki.pdf', 'page': 1}),\n",
       " Document(page_content=\"Question: Kill processes from SiFo compiler job fails\\nAnswer: Delete the task file (.tsk) in ~iprepdes/ip_replacement/app/data/tmp to clear the blue triangle\\nQuestion: Via Definitions\\nAnswer: Via definitions (which are in the PDK) are described in internal documentation attached to the\\nrelated Jira ticket DSBU-2800\\nQuestion: Run Calibre MIMANT from GUI within\\nVirtuoso\\nAnswer: There doesn't seem to be the easy selection to the MIMANT runset as is available with PVS.\", metadata={'source': 'C:/Users/Lukas/Desktop/My_Projects/To_Upload/Llama2/llama2_projects/llama2_pdf_chatbot_faiss_windows/data/Hotline_Wiki.pdf', 'page': 1}),\n",
       " Document(page_content='You could define $XFAB_CALIBRE_MIMANT_RUNSET and select xx018_xx51_MET5_METMID for\\nthe rules file (you have to navigate to the runset folder). I find it easier to copy\\nxx018_xx51_MET5_METMID to my local Calibre DRC run directory, and edit the file replacing\\n$XFAB_CALIBRE_MIMANT_RUNSET with the explicit path: INCLUDE\\n/design/xkit/xx018/mentor/v3_0/calibre_MIMANT/v3_0_1/018.rul.MIM.ANT Then specify that modified\\nlocal xx018_xx51_MET5_METMID file as the rules file.', metadata={'source': 'C:/Users/Lukas/Desktop/My_Projects/To_Upload/Llama2/llama2_projects/llama2_pdf_chatbot_faiss_windows/data/Hotline_Wiki.pdf', 'page': 1}),\n",
       " Document(page_content='Question: Gen1 Gen2 Gen2.5 differences\\nAnswer: Ron-Coff improved gen-by-gen (152fs / 135 fs / 115fs) - See table in artcle 7\\nQuestion: Pre Tape-out checks\\nAnswer: Nice summary of possible checks that a newbie should consider prior to tape-out.\\nQuestion: Cpk report location\\nAnswer: Example for Kch & Drs:\\nhttp://sp.erf.xfab.de/OperationsGlobal/COOStaff/Reporting/Documentss/Forms/Kuching.aspx\\nhttp://sp.erf.xfab.de/OperationsGlobal/COOStaff/Reporting/Documentss/Forms/Dresden.aspx', metadata={'source': 'C:/Users/Lukas/Desktop/My_Projects/To_Upload/Llama2/llama2_projects/llama2_pdf_chatbot_faiss_windows/data/Hotline_Wiki.pdf', 'page': 2}),\n",
       " Document(page_content='Question: Qualification Certificate location\\nAnswer: Older node technology certificates such as XC06 are not on my X-FAB, but newer ones are: h\\nttps://my.xfab.com/search/quality-reliability/documents?_XTICSSPDocumentTypes=OQpHlF2bTNqMn\\nV6YDaFKoA For XC06/XB06/CX06 qualification certificates: http://sp.erf.xfab.de/RandD/Projects_and_\\nReports/Certificate/Forms/ProcessOverview.aspx#InplviewHash406e8429-4700-43c4-b969-8f88d204f', metadata={'source': 'C:/Users/Lukas/Desktop/My_Projects/To_Upload/Llama2/llama2_projects/llama2_pdf_chatbot_faiss_windows/data/Hotline_Wiki.pdf', 'page': 2}),\n",
       " Document(page_content='697=FilterField1%3DProzess%255Fx0020%255FFamily-FilterValue1%3DXC06 Pay attention to the\\nfab (Location column) and modules (Status overview column).\\nQuestion: GDS from LEF\\nAnswer: Simply import each LEF to a library (on the LEF in form, you only need to specify the LEF file\\nand the library), then streamout the resulting abstract view to a GDS file. As a check, open each GDS\\nwith KLayout to verify it looks right and which layers it has (can also check the Cadence streamout\\nlogs).', metadata={'source': 'C:/Users/Lukas/Desktop/My_Projects/To_Upload/Llama2/llama2_projects/llama2_pdf_chatbot_faiss_windows/data/Hotline_Wiki.pdf', 'page': 2}),\n",
       " Document(page_content='logs).\\nQuestion: Fatal Rules list location\\nAnswer: fatal rule records are on sharepoint under\\nhttp://sp.erf.xfab.de/RandD/Projects_and_Reports/Lists/ProcessInformation/Category.aspx --> Fatal\\nRules', metadata={'source': 'C:/Users/Lukas/Desktop/My_Projects/To_Upload/Llama2/llama2_projects/llama2_pdf_chatbot_faiss_windows/data/Hotline_Wiki.pdf', 'page': 2}),\n",
       " Document(page_content='Question: What info is needed for digital library\\ncustomized PVT request?\\nAnswer: See example form in ticket. Design Service: Customized PVT characterization Process:\\nLibrary: Library version: PVTs: slow_1_62V_4_50V_150C Delivery data: liberty_LP5MOS_MOS5\\nliberty_CCS_TIMING_LP5MOS_MOS5 liberty_CCS_POWER_LP5MOS_MOS5 power_grid_voltus\\nDesired Delivery date: Status of results: Non-exclusive\\nQuestion: diode forward bias operation', metadata={'source': 'C:/Users/Lukas/Desktop/My_Projects/To_Upload/Llama2/llama2_projects/llama2_pdf_chatbot_faiss_windows/data/Hotline_Wiki.pdf', 'page': 3}),\n",
       " Document(page_content=\"Question: diode forward bias operation\\nAnswer: In general we don't support forward biasing of diodes in our technologies (unless specifically\\nstated - such as Schottky diodes). Mostly this is because the diode model parameters are chosen such\\nthat the reverse operation of the diode can be accurately simulated. This does not mean that the\\nsimulation of the diodes in forward direction is totally wrong, but it can be less accurate. To model a\", metadata={'source': 'C:/Users/Lukas/Desktop/My_Projects/To_Upload/Llama2/llama2_projects/llama2_pdf_chatbot_faiss_windows/data/Hotline_Wiki.pdf', 'page': 3}),\n",
       " Document(page_content='diode in forward direction often requires parameters that are not available in the model or are\\ninsufficiently supported. You can simulate in forward direction and you will get a typical diode\\ncharacteristic which is fairly accurate in the low current range but may be less accurate in the high\\ncurrent range (knee current, series resistance). In some of our documents is the statement that\\n\"forward bias is not modeled\" which is based on this lack of accuracy in the models. The parameters', metadata={'source': 'C:/Users/Lukas/Desktop/My_Projects/To_Upload/Llama2/llama2_projects/llama2_pdf_chatbot_faiss_windows/data/Hotline_Wiki.pdf', 'page': 3}),\n",
       " Document(page_content=\"describing the diode in forward bias are also very layout-specific, so an accurate model for a diode in\\nforward bias would have to be related to a fixed layout.\\nQuestion: How do I specify an alpha PDK with xkit?\\nAnswer: Include the '--useversion' option, for example: xkit -t xt018 --useversion 7.0.1.A2 –n\\nQuestion: What is correct method to start DRC/LVS\\nrun?\\nAnswer: Don't use .rul files directly, use an appropriate header file which will set variables\\ncorresponding to your PDK setup options.\", metadata={'source': 'C:/Users/Lukas/Desktop/My_Projects/To_Upload/Llama2/llama2_projects/llama2_pdf_chatbot_faiss_windows/data/Hotline_Wiki.pdf', 'page': 3}),\n",
       " Document(page_content='corresponding to your PDK setup options.\\nQuestion: A new PDK version has been released, do I\\nneed to update (design is already in progress)?', metadata={'source': 'C:/Users/Lukas/Desktop/My_Projects/To_Upload/Llama2/llama2_projects/llama2_pdf_chatbot_faiss_windows/data/Hotline_Wiki.pdf', 'page': 3}),\n",
       " Document(page_content=\"Answer: For new designs, we recommend customers always use the latest PDK. For designs in\\nprogress when an update is released, customers can review the revision notes (both the changes\\ndocument for the process specifications, and the notes in the rev_info.txt files for each EDA package)\\nto evaluate if the changes are critical to their design. In principle, we could have rare special cases\\nwhere we wouldn't accept designs based on an older PDK. Bear in mind that at tape-in, our mask\", metadata={'source': 'C:/Users/Lukas/Desktop/My_Projects/To_Upload/Llama2/llama2_projects/llama2_pdf_chatbot_faiss_windows/data/Hotline_Wiki.pdf', 'page': 4}),\n",
       " Document(page_content='tooling team always uses the most recent runset for DRC, so customers might want to check their\\ndesigns with the latest runset to avoid possible surprises.\\nQuestion: Is there any correlation between the\\ndeviation of the sheet resistance (RS) of resistors\\nand that of their thermal coefficients (TC1, TC2)?\\nAnswer: In case of some resistors, there seems to be some correlation between the sheet resistance', metadata={'source': 'C:/Users/Lukas/Desktop/My_Projects/To_Upload/Llama2/llama2_projects/llama2_pdf_chatbot_faiss_windows/data/Hotline_Wiki.pdf', 'page': 4}),\n",
       " Document(page_content='and their temperature coefficients TC1/2. In some other cases the correlation seems to be quite weak.\\nrzp2: TC1 tends to the high corner for low RS and vice versa. TC2 tends to the high corner for low TC1\\nand vice versa. rnp1: TC1 tends to the high corner for lower RS and vice versa. TC2 tends to the high\\ncorner for low TC1 and vice versa. rw: TC1 tends to the low corner for lower RS and vice versa. TC2', metadata={'source': 'C:/Users/Lukas/Desktop/My_Projects/To_Upload/Llama2/llama2_projects/llama2_pdf_chatbot_faiss_windows/data/Hotline_Wiki.pdf', 'page': 4}),\n",
       " Document(page_content=\"tends to the high corner for low TC1 and vice versa. rpp1: TC1 tends to the high corner for lower RS\\nand vice versa. TC2 tends to the high corner for low TC1 and vice versa.\\nQuestion: Customize PDK setup using .json file from\\nSpecXplorer\\nAnswer: To generate a .json file, after logging into the my X-FAB portal navigate to Design >\\nSpecXplorer. Select your target process, then click either 'Select modules or 'Select modules by\", metadata={'source': 'C:/Users/Lukas/Desktop/My_Projects/To_Upload/Llama2/llama2_projects/llama2_pdf_chatbot_faiss_windows/data/Hotline_Wiki.pdf', 'page': 4}),\n",
       " Document(page_content=\"devices' (within your PDK setup, the first option will offer all devices in the selected module, second\\noption will offer only the selected devices) and then choose the desired process modules. Click OK.\\nClick the download icon next to the search box near the top right of the page. You can further refine the\\ncustom setup by unselecting primitive devices of the specified modules if for some reason you want to\", metadata={'source': 'C:/Users/Lukas/Desktop/My_Projects/To_Upload/Llama2/llama2_projects/llama2_pdf_chatbot_faiss_windows/data/Hotline_Wiki.pdf', 'page': 4}),\n",
       " Document(page_content=\"ensure they are not used. Lastly, click 'Export' to initiate download of the .json file. Use this file when\\nstarting your project by typing xkit -d . This sets up a new project with your chosen modules / devices.\\nPlease refer to the xenv userguide for further information.\\nQuestion: Do the I/O libraries support copper wire\\nbonding?\\nAnswer: We do not have any I/O libraries specifically designed for Cu bonding. Some customers have\", metadata={'source': 'C:/Users/Lukas/Desktop/My_Projects/To_Upload/Llama2/llama2_projects/llama2_pdf_chatbot_faiss_windows/data/Hotline_Wiki.pdf', 'page': 4}),\n",
       " Document(page_content='reported running into problems with copper wire bonding but in at least some cases, different\\ncustomers have used exactly the same pad structure and one had no problem while the other had\\nissues. This indicates different assembly houses can have quite different bonding parameters, and as\\ncopper wire bonding is a harsher process than gold or aluminum bonding, marginalities in the', metadata={'source': 'C:/Users/Lukas/Desktop/My_Projects/To_Upload/Llama2/llama2_projects/llama2_pdf_chatbot_faiss_windows/data/Hotline_Wiki.pdf', 'page': 4}),\n",
       " Document(page_content=\"interaction between the process and bonding are more likely to show up. One suggestion is to consider\\nusing the thick metal (METTHK) module to give the widest bonding margin for assembly - and don't use\\nin conjunction with circuit-under-pad techniques. If thick metal is not or cannot be used, inform your\\nassembly partner of the top metal thickness. \\nQuestion: What is the difference between IO_CELLS*\\nvs HV_CELLS libraries?\", metadata={'source': 'C:/Users/Lukas/Desktop/My_Projects/To_Upload/Llama2/llama2_projects/llama2_pdf_chatbot_faiss_windows/data/Hotline_Wiki.pdf', 'page': 5}),\n",
       " Document(page_content='vs HV_CELLS libraries?\\nAnswer: For 5V application or LV application, it is normally sufficient to use IO_CELLS*. HV_CELLS\\nare mainly used when none of the IO_CELLS* fit your requirement, such as needing to implement HV\\nESD protection. Some general remarks on the differences between HV_CELLS and IO_CELLS*: * IO\\nlibrary pad cells are provided as pad-limited or core-limited layouts, support of multiple power rails.', metadata={'source': 'C:/Users/Lukas/Desktop/My_Projects/To_Upload/Llama2/llama2_projects/llama2_pdf_chatbot_faiss_windows/data/Hotline_Wiki.pdf', 'page': 5}),\n",
       " Document(page_content='They are also complete IO pad cells with input/output buffer circuitry. * HV pad cells are provided as\\nblock layouts, and normally HV ESD protection structures are too big to fit into a LV IO pad cell frame. *\\nHV pad cells consist of protection block and bond pad, and usually contain no power rails or HV\\ninput/output buffer circuitry. * The protection block can be combined with different size bond pads, and\\nit is intended as a starting point for custom HV ESD pad cell designs.', metadata={'source': 'C:/Users/Lukas/Desktop/My_Projects/To_Upload/Llama2/llama2_projects/llama2_pdf_chatbot_faiss_windows/data/Hotline_Wiki.pdf', 'page': 5}),\n",
       " Document(page_content='Question: Why no MIM capacitor antenna DRC\\nchecks in X*035?\\nAnswer: For single MIM option on X*035, we believe there is no issue with plasma damage. For DMIM\\nconstruction on X*035 which resembles the case of two individual single MIMs - no cross coupling\\nrouting, we also believe that it has low impact. So far, we have not seen any big issue with the 0.35um\\nprocess due to plasma induce damage (PID) from designs point of view with all existing working', metadata={'source': 'C:/Users/Lukas/Desktop/My_Projects/To_Upload/Llama2/llama2_projects/llama2_pdf_chatbot_faiss_windows/data/Hotline_Wiki.pdf', 'page': 5}),\n",
       " Document(page_content='customers’ product. Therefore you see in general the guideline is it considered as a recommendation\\nonly.\\nQuestion: Which Synopsys tools are supported?\\nAnswer: We support several Synopsys tools : * Design Compiler: purposed for digital synthesis,\\nrequired inputs : Data Formats -> Liberty * Custom Compiler (aka Custom Designer): full analog design\\nframework similar e.g. to Cadence IC61; required inputs EDA', metadata={'source': 'C:/Users/Lukas/Desktop/My_Projects/To_Upload/Llama2/llama2_projects/llama2_pdf_chatbot_faiss_windows/data/Hotline_Wiki.pdf', 'page': 5}),\n",
       " Document(page_content=\"Vendors->Synopsys->CustomCompiler or CustomDesigner * IC Compiler : digital implementation,\\nPnR; required inputs EDA Vendors->Synopsys->IC Compiler\\nQuestion: Which DRC settings should I use to match\\nthe fab's Data Input Checks?\", metadata={'source': 'C:/Users/Lukas/Desktop/My_Projects/To_Upload/Llama2/llama2_projects/llama2_pdf_chatbot_faiss_windows/data/Hotline_Wiki.pdf', 'page': 5}),\n",
       " Document(page_content='Answer: Switch on density and popping and DUMMY_FILL.\\nQuestion: How do I solve LVS mismatch due to\\nFILLER cells not extracting into layout netlist?\\nAnswer: The problem is due to the fact that these are empty cells (i.e. no devices), but contain ports.\\nPossible strategies to deal include: 1) One could simply ignore the mismatched instance errors for\\nthese type of cells. 2) Omitting them from the schematic would also produce a match. 3) An empty cell', metadata={'source': 'C:/Users/Lukas/Desktop/My_Projects/To_Upload/Llama2/llama2_projects/llama2_pdf_chatbot_faiss_windows/data/Hotline_Wiki.pdf', 'page': 6}),\n",
       " Document(page_content='with ports may be considered as a blackbox. Designating all used such cells as blackboxes will work.\\nTo do so, go to the Rules section of the PVS LVS form, select the Include PVL tab, check Include PVL\\nRules, and type the command lvs_black_box followed by the names of all cells to be blackboxed (use a\\nspace as delimiter).\\nQuestion: How should I resolve the fatal DRC error\\nwhen my sealring is connected to a ground pad?', metadata={'source': 'C:/Users/Lukas/Desktop/My_Projects/To_Upload/Llama2/llama2_projects/llama2_pdf_chatbot_faiss_windows/data/Hotline_Wiki.pdf', 'page': 6}),\n",
       " Document(page_content='when my sealring is connected to a ground pad?\\nAnswer: E1CFCX is usually waived when the intention is to bias the ring by connecting to a voltage\\nsource (e.g. PAD connected to GND). When customer gets the DIC report, he should request waiver by\\nmentioning within the request that the ring is intentionally biassed to ground.\\nQuestion: Radiation Hardness\\nAnswer: X-FAB has not characterized any of its processes for radiation-hardness and we do not', metadata={'source': 'C:/Users/Lukas/Desktop/My_Projects/To_Upload/Llama2/llama2_projects/llama2_pdf_chatbot_faiss_windows/data/Hotline_Wiki.pdf', 'page': 6}),\n",
       " Document(page_content='monitor or warrant any of our technologies for radiation hardness, nor do we have expertise in the\\ndesign of radiation hardened cells. We do have customers who do their own designs for radiation hard\\napplications (using both CMOS bulk wafer and SOI technologies*), but those customers use either their\\nown experience or public information about the best techniques to use, and then assess the results', metadata={'source': 'C:/Users/Lukas/Desktop/My_Projects/To_Upload/Llama2/llama2_projects/llama2_pdf_chatbot_faiss_windows/data/Hotline_Wiki.pdf', 'page': 6}),\n",
       " Document(page_content=\"themselves. * SOI processes are generally more radiation tolerant than bulk CMOS processes - but we\\ncannot say by how much in our technologies. Clearly we're not at liberty to discuss any techniques that\\nanother customer has used, so we can only refer customers to whatever can be found in the public\\nliterature to aid their design. Note that some design techniques could involve the use of structures or\", metadata={'source': 'C:/Users/Lukas/Desktop/My_Projects/To_Upload/Llama2/llama2_projects/llama2_pdf_chatbot_faiss_windows/data/Hotline_Wiki.pdf', 'page': 6}),\n",
       " Document(page_content=\"layouts that are not supported by our verification decks. For DRC errors on them, we could only advise\\non the manufacturability of the structure, but the responsibility of waiving them would be the customer's.\\nAny LVS or extraction issues arising from special structures not corresponding to our characterized\\nprimitive devices would also not be supported.\\nQuestion: How do I implement multiple instances of\\na ROM, each with different programming?\", metadata={'source': 'C:/Users/Lukas/Desktop/My_Projects/To_Upload/Llama2/llama2_projects/llama2_pdf_chatbot_faiss_windows/data/Hotline_Wiki.pdf', 'page': 6}),\n",
       " Document(page_content=\"Answer: When instantiating multiple instances of the same ROM configuration but with different\\nprogrammings, it is necessary to use the 'extended name' option on the front-end compiler so that each\\nseparate instance has a unique name. Otherwise, when IP replacement is performed, both instances\\nwill be identical. The distinct names will be used by the backend compiler so that the top cell name of\\nthe generated ROM block will be distinct. Otherwise the cal files submitted will be the same with\", metadata={'source': 'C:/Users/Lukas/Desktop/My_Projects/To_Upload/Llama2/llama2_projects/llama2_pdf_chatbot_faiss_windows/data/Hotline_Wiki.pdf', 'page': 7}),\n",
       " Document(page_content='identical top cell names. Then, even though your blackbox cell names are necessarily different, if we\\nwere to proceed with the IP replacement, the result would be all ROMs with the same programming.\\nThus to ensure each ROM instance will have the desired programming, generate the front-end data\\nfrom the compiler using the extended name option to specify a unique name for each ROM.\\nQuestion: Please explain the usage of Page 2 (Safety\\narea).', metadata={'source': 'C:/Users/Lukas/Desktop/My_Projects/To_Upload/Llama2/llama2_projects/llama2_pdf_chatbot_faiss_windows/data/Hotline_Wiki.pdf', 'page': 7}),\n",
       " Document(page_content=\"area).\\nAnswer: Let me clarify a couple of comments on the datasheet: 'if power supply interruption during\\nstore is impossible.' - The background is that the trim bits for the charge pump are stored in page 2. The\\ntrim bits are determined and stored during wafer probe 1. The trim bits control the programming and\\nerase behavior (timing, pulses, programming and erase voltage level,…) of the Store operation. If the\", metadata={'source': 'C:/Users/Lukas/Desktop/My_Projects/To_Upload/Llama2/llama2_projects/llama2_pdf_chatbot_faiss_windows/data/Hotline_Wiki.pdf', 'page': 7}),\n",
       " Document(page_content='trim bits do not have the correct value, the endurance and data retention cannot be guaranteed. Any\\npower supply interruption (for example brown-outs) during Store operation could lead to corrupted\\nnon-volatile data, because the Store is not executed/finished correctly. Such scenarios are very\\napplication dependent. General recommendation is to store critical data (like the trim bits) on page 2', metadata={'source': 'C:/Users/Lukas/Desktop/My_Projects/To_Upload/Llama2/llama2_projects/llama2_pdf_chatbot_faiss_windows/data/Hotline_Wiki.pdf', 'page': 7}),\n",
       " Document(page_content=\"during wafer probe/final test and do no further Store operation to page 2 during the application. If the\\ncorrect power supply and a correct Store can be guaranteed, storing to page 2 can also be done. 'If no\\ncustomer safety relevant data have to be stored it is sufficient to use the maximum size of page 1.' -- In\\nthe compiler web interface on myXFAB, the page size (WORDS_PAGE1) can be customized (the\", metadata={'source': 'C:/Users/Lukas/Desktop/My_Projects/To_Upload/Llama2/llama2_projects/llama2_pdf_chatbot_faiss_windows/data/Hotline_Wiki.pdf', 'page': 7}),\n",
       " Document(page_content=\"restrictions are visible in the compiler web interface). If there are very few or no further critical data (as\\ndescribed above) except the NVRAM trim bits, the page 2 size can be minimized to not waste area.\\nQuestion: Q1SU DRC flags\\nAnswer: The SUBCUT layer is not used for any masks, its purpose is only to perform a 'trick' for LVS to\\npretend the substrate is separable for different ground domains. The Q1SU rule is only a warning (as\", metadata={'source': 'C:/Users/Lukas/Desktop/My_Projects/To_Upload/Llama2/llama2_projects/llama2_pdf_chatbot_faiss_windows/data/Hotline_Wiki.pdf', 'page': 7}),\n",
       " Document(page_content='are all Q* rules). B1SU is the only check for how SUBCUT is used; while DRC will always flag Q1SU\\nwhenever SUBCUT is present. You might interpret Q1SU as asking if you are intentionally using\\nSUBCUT.\\nQuestion: Explain the Primitive Device List (PDL)\\nresults from Data Input Check.\\nAnswer: The PDL (primitive device list) file is produced from a special LVS run that only extracts a list of\\nthe primitive devices (including parasitic devices) present in your layout. The parasitic devices would', metadata={'source': 'C:/Users/Lukas/Desktop/My_Projects/To_Upload/Llama2/llama2_projects/llama2_pdf_chatbot_faiss_windows/data/Hotline_Wiki.pdf', 'page': 7}),\n",
       " Document(page_content='generally be diodes that are part of the structure of high voltage or isolated transistors. The PDL file is', metadata={'source': 'C:/Users/Lukas/Desktop/My_Projects/To_Upload/Llama2/llama2_projects/llama2_pdf_chatbot_faiss_windows/data/Hotline_Wiki.pdf', 'page': 7}),\n",
       " Document(page_content=\"for information only. There have been cases in some of our technologies where a primitive device may\\nbe superseded by an improved version, or conceivably some issue under certain operating conditions\\nof a device may have been identified -- in such cases, our Customer Projects department would use the\\nPDL to check if such devices are used in a customer's design and make sure the customer is aware of\", metadata={'source': 'C:/Users/Lukas/Desktop/My_Projects/To_Upload/Llama2/llama2_projects/llama2_pdf_chatbot_faiss_windows/data/Hotline_Wiki.pdf', 'page': 8}),\n",
       " Document(page_content=\"the device's status. If you want to know the locations of devices in your layout, you should perform a\\nparasitic extraction run (such as with our Cadence QRC or Calibre PEX runsets).\\nQuestion: Does X-FAB offer Flip Chip support?\\nAnswer: X-FAB does not support any additional processing for flip chip (such as the seed and plating\\nlayers or the ball deposition) so of course customers must discuss that with their assembly\", metadata={'source': 'C:/Users/Lukas/Desktop/My_Projects/To_Upload/Llama2/llama2_projects/llama2_pdf_chatbot_faiss_windows/data/Hotline_Wiki.pdf', 'page': 8}),\n",
       " Document(page_content=\"subcontractor. X-FAB does not offer any flip-chip specific processing. We don't make any special\\nprocessing or bondpad designs for flip-chip either, but our standard pads have been used by some\\ncustomers at flip-chip houses. Please review and understand your assembly partner's rules for flip-chip\\nto check their requirements and see what (if any) modification might be needed to comply. You should\\nbe able to do any layout modifications yourself.\\nQuestion: Which antenna diode should be use?\", metadata={'source': 'C:/Users/Lukas/Desktop/My_Projects/To_Upload/Llama2/llama2_projects/llama2_pdf_chatbot_faiss_windows/data/Hotline_Wiki.pdf', 'page': 8}),\n",
       " Document(page_content=\"Question: Which antenna diode should be use?\\nAnswer: The connection to DIFF provides a discharge path during manufacture, so its function as an\\nantenna diode doesn't matter which diode is used. After manufacture, the antenna role is no longer\\nneeded, and how the diode could impact the function of the circuit must dictate which diode is selected.\\nRather than the breakdown voltage parameter, the reverse bias operating limit should be used to\", metadata={'source': 'C:/Users/Lukas/Desktop/My_Projects/To_Upload/Llama2/llama2_projects/llama2_pdf_chatbot_faiss_windows/data/Hotline_Wiki.pdf', 'page': 8}),\n",
       " Document(page_content=\"decide. Alternatively, where possible, a metal bridge close to the at-risk gate oxide can be used to fix\\nan antenna violation.\\nQuestion: Concerning device operating limits, what\\ndo the 'absolute' voltage limits specify?\\nAnswer: For X-FAB, the absolute voltage is the maximum voltage that can be applied to a device for a\\nshort period of time without significant damage. The main reason we phrase it this way is because we\", metadata={'source': 'C:/Users/Lukas/Desktop/My_Projects/To_Upload/Llama2/llama2_projects/llama2_pdf_chatbot_faiss_windows/data/Hotline_Wiki.pdf', 'page': 8}),\n",
       " Document(page_content=\"can't be sure what the actual state of the device will be during this period of time. For example, if 7 volts\\nis applied between the source and drain of a nmos4 device from the xc06 process (7V is the absolute\\nmax value for these terminals) we are not specifying what voltage is on the gate or body of the device.\\nIf the gate and body were at 0V, this voltage could probably be held 'forever,' but if the body was at 0V\", metadata={'source': 'C:/Users/Lukas/Desktop/My_Projects/To_Upload/Llama2/llama2_projects/llama2_pdf_chatbot_faiss_windows/data/Hotline_Wiki.pdf', 'page': 8}),\n",
       " Document(page_content='and the gate was at 2V, there would be significant hot carrier current to the gate and the device could\\nfairly quickly degrade. Since this is a circuit issue, we have to use the conservative definition. If in your\\ndesigns you can guarantee that the devices are always off when the maximum voltage is applied, the\\ndevices will probably survive indefinitely. However, please remember that X-FAB will not guarantee\\nthis.', metadata={'source': 'C:/Users/Lukas/Desktop/My_Projects/To_Upload/Llama2/llama2_projects/llama2_pdf_chatbot_faiss_windows/data/Hotline_Wiki.pdf', 'page': 8}),\n",
       " Document(page_content='Question: Can I export from Innovus to GDS without\\nhaving to use Virtuoso to replace abstract views with\\nthe layout views?\\nAnswer: One can directly write out from Innovus to an OA library that has replaced abstract views with\\nlayout views: oaOut ${newlibName} ${designName} ${cellName} -autoRemaster -leafViewNames {\\nlayout } The output library should be different from the Innovus working OA library, as the new library', metadata={'source': 'C:/Users/Lukas/Desktop/My_Projects/To_Upload/Llama2/llama2_projects/llama2_pdf_chatbot_faiss_windows/data/Hotline_Wiki.pdf', 'page': 9}),\n",
       " Document(page_content='cannot be read back into Innovus because all timing views and global settings will have been lost. Our\\n180nm technology Cadence PDK kernels include support for GDS export from Innovus. The mapping\\nfiles to be used when streaming Innovus layers to GDS are in the technology library corresponding to\\nyour PDK setup code, for example:\\n$X_DIR/xh018/cadence/v*_*/PDK/IC61/v*_*_*/TECH_XH018_1141/pnr_streamout.map Additionally,', metadata={'source': 'C:/Users/Lukas/Desktop/My_Projects/To_Upload/Llama2/llama2_projects/llama2_pdf_chatbot_faiss_windows/data/Hotline_Wiki.pdf', 'page': 9}),\n",
       " Document(page_content='the PVS QRC runset provides mapping files to be used when running QRC extraction from Innovus, for\\nexample: $X_DIR/xh018/cadence/v*_*/QRC_pvs/v*_*_*/XH018_1141/QRC-Typ/xx018_lef_qrc.map\\n(file exists also in the QRC-Min and QRC-Max folders).\\nQuestion: Assura gives background stamp errors.\\nWhat exactly are these?\\nAnswer: The bkgnd_StampErrorFloat error simply means that the layout being checked has no', metadata={'source': 'C:/Users/Lukas/Desktop/My_Projects/To_Upload/Llama2/llama2_projects/llama2_pdf_chatbot_faiss_windows/data/Hotline_Wiki.pdf', 'page': 9}),\n",
       " Document(page_content='connection to the substrate. Placing even just a single PDIFF contact will clear the error (of course such\\nwould not be sufficient for an entire chip). The bkgnd_StampErrorMult and bkgnd_StampErrorConnect\\nerrors work together to indicate that the layout has multiple substrate connections that are not\\nconnected to the same node with metal (resulting in soft connections through the substrate). Assura will\\nflag one of the connections (stamps) with bkgnd_StampErrorMult and all of the others with', metadata={'source': 'C:/Users/Lukas/Desktop/My_Projects/To_Upload/Llama2/llama2_projects/llama2_pdf_chatbot_faiss_windows/data/Hotline_Wiki.pdf', 'page': 9}),\n",
       " Document(page_content=\"bkgnd_StampErrorConnect.\\nQuestion: What is the meaning of the Assura\\n'minority PTUB connectors' error message?\\nAnswer: It is generated by the connect statement from Assura. It means that more than one net is\\nconnected to the layer. The stamped layer receives the net information from the net with the most\\ncontacts. All other nets are marked with this error. For more detailed information please refer to the\", metadata={'source': 'C:/Users/Lukas/Desktop/My_Projects/To_Upload/Llama2/llama2_projects/llama2_pdf_chatbot_faiss_windows/data/Hotline_Wiki.pdf', 'page': 9}),\n",
       " Document(page_content=\"Assura manuals. X-FAB does not document tool specific messages. The Assura Command Reference\\nmanual (a document primarily aimed at runset developers) explains that: 'A layer with a soft connection\\nis a layer that only receives connectivity information and does not pass on that connectivity information.\\nYou can use the soft keyword to check layers for high-resistivity, such as wells, where you want them to\", metadata={'source': 'C:/Users/Lukas/Desktop/My_Projects/To_Upload/Llama2/llama2_projects/llama2_pdf_chatbot_faiss_windows/data/Hotline_Wiki.pdf', 'page': 9}),\n",
       " Document(page_content=\"be part of the net, but you do not want them to be used as a connection between two conducting\\nlayers.' This means PTUB_soft_connect errors are 'soft connection' shorts through a common layer,\\nwhich is often the PSUB, or a common well. In other words, multiple distinct nets are connected to that\\ncommon layer. Perhaps those distinct nets were not intended to be distinct and should be connected\", metadata={'source': 'C:/Users/Lukas/Desktop/My_Projects/To_Upload/Llama2/llama2_projects/llama2_pdf_chatbot_faiss_windows/data/Hotline_Wiki.pdf', 'page': 9}),\n",
       " Document(page_content=\"together by metal. It also should be inferred that it is not an error that you'll find defined in an X-FAB\", metadata={'source': 'C:/Users/Lukas/Desktop/My_Projects/To_Upload/Llama2/llama2_projects/llama2_pdf_chatbot_faiss_windows/data/Hotline_Wiki.pdf', 'page': 9}),\n",
       " Document(page_content='Design Rule Specification. For a technology such as XT018, it could result from neglecting to put a\\ntrench around a p-type tub to isolate it from other tubs.\\nQuestion: What is an \"unstable device\" as flagged by\\nAssura LVS?\\nAnswer: It refers to a device for which device layers or connectivity are in several hierarchy levels. This\\nmessage is suppressible by setting \\'?reportUnstableDevices nil\\'. For more details please see the\\nAssura Command Reference Manual from Cadence.', metadata={'source': 'C:/Users/Lukas/Desktop/My_Projects/To_Upload/Llama2/llama2_projects/llama2_pdf_chatbot_faiss_windows/data/Hotline_Wiki.pdf', 'page': 10}),\n",
       " Document(page_content=\"Assura Command Reference Manual from Cadence.\\nQuestion: Why can't I download analog libraries?\\nAnswer: All of our A_CELLS* analog libraries are subject to a license agreement and one-time fee. If\\ninterested, please check with your X-FAB Sales contact for license details and a quote. The databook\\n(an html overview page with links to individual PDF datasheets) is accessible. The library will be\\nreleased upon receipt of signed license agreement and PO. The deliverable includes full schematics\", metadata={'source': 'C:/Users/Lukas/Desktop/My_Projects/To_Upload/Llama2/llama2_projects/llama2_pdf_chatbot_faiss_windows/data/Hotline_Wiki.pdf', 'page': 10}),\n",
       " Document(page_content='and complete layout.\\nQuestion: Is backgrinding available for MPW shuttle\\nruns?\\nAnswer: By default, we do not offer backgrinding service for customer tape-in for the MPW scheduled\\nrun. However, if a customer has such request and informs us during tape-in, we could check if we can\\nsupport backgrinding for the particular case.\\nQuestion: Is backgrinding available for xs018?\\nAnswer: Backgrinding is not supported for xs018. This is due to the risk on optical applications (both', metadata={'source': 'C:/Users/Lukas/Desktop/My_Projects/To_Upload/Llama2/llama2_projects/llama2_pdf_chatbot_faiss_windows/data/Hotline_Wiki.pdf', 'page': 10}),\n",
       " Document(page_content='logistical handling and the potential defect). If it is a single exception (example MPW) or non-optical\\napplication, you can try to align with our Customer Projects department to check if X-FAB can offer\\nbackgrinding.\\nQuestion: How are the PDK bindkeys for Cadence\\ndefined?', metadata={'source': 'C:/Users/Lukas/Desktop/My_Projects/To_Upload/Llama2/llama2_projects/llama2_pdf_chatbot_faiss_windows/data/Hotline_Wiki.pdf', 'page': 10}),\n",
       " Document(page_content='Answer: You should find a file .xfabcadrc created in your $HOME directory when you first execute the\\nxkit script. For example: XfabCadNoSetBindKey = t, means suppress default bindkey settings.\\nHowever since this is commented out by default, the default Cadence bindkeys are used, which may be\\nlocated in $CDSHOME/tools/dfII/samples/local You can define your own customized bindkeys in your\\n.cdsinit_personal file.\\nQuestion: The qpa device causes issues during LVS.\\nHow to resolve it?', metadata={'source': 'C:/Users/Lukas/Desktop/My_Projects/To_Upload/Llama2/llama2_projects/llama2_pdf_chatbot_faiss_windows/data/Hotline_Wiki.pdf', 'page': 11}),\n",
       " Document(page_content=\"How to resolve it?\\nAnswer: For a hierarchical run, the Calibre LVS layout-extracted netlist creates an internal subcircuit for\\nqpa which is the source of the error, for example: .SUBCKT qpa 1 2 3 5 ** N=8 EP=4 IP=0 FDC=1 X0 3\\n5 2 1 QPA $X=2600 $Y=2600 $D=20 .ENDS As we cannot interfere with Calibre's internal hierarchy\\nprocessing engine, the workaround is to explicitly flatten the cell by including this command in calibre\\nGUI LVS Options/Include tab: FLATTEN CELL qpa\", metadata={'source': 'C:/Users/Lukas/Desktop/My_Projects/To_Upload/Llama2/llama2_projects/llama2_pdf_chatbot_faiss_windows/data/Hotline_Wiki.pdf', 'page': 11}),\n",
       " Document(page_content='GUI LVS Options/Include tab: FLATTEN CELL qpa\\nQuestion: Where are the QRC tech files, for use with\\nInnovus, for your 350nm processes?\\nAnswer: X-FAB does not support the QRC extraction from Innovus by using Quantus and QRC-tech\\nfiles for our 0.35µm processes. The precision provided by our *.techLEF and *.capTbl files is sufficient\\nfor that technology node. Therefore we suggest you run the RC extraction in Innovus based on capTbl\\nfiles (required in the Innovus setup).\"', metadata={'source': 'C:/Users/Lukas/Desktop/My_Projects/To_Upload/Llama2/llama2_projects/llama2_pdf_chatbot_faiss_windows/data/Hotline_Wiki.pdf', 'page': 11}),\n",
       " Document(page_content='files (required in the Innovus setup).\"\\nQuestion: How can an environment variable be used\\nin cds.lib?\\nAnswer: Here is an example showing the syntax: DEFINE analogLib\\n${CDSHOME}/tools/dfII/etc/cdslib/artist/analogLib\\nQuestion: What are your recommendations for\\ncorner lot splits?\\nAnswer: The short answer is that unlike most digital-dominated fabs, we don\\'t have a set menu of split\\nconditions based on fast / typ / slow that customers should choose because in a mixed signal design', metadata={'source': 'C:/Users/Lukas/Desktop/My_Projects/To_Upload/Llama2/llama2_projects/llama2_pdf_chatbot_faiss_windows/data/Hotline_Wiki.pdf', 'page': 11}),\n",
       " Document(page_content=\"there is often a lot more than just Vt and poly CD that can be critical to the design (but those\\nparameters would normally be sufficient for a digital design). Therefore it's normal for a customer to\\nmake a specific request on what parameters it is desired to adjust and the relevant fab will review and\\nconfirm if that set of corners is possible. The negotiation would be done through Customer Projects at\", metadata={'source': 'C:/Users/Lukas/Desktop/My_Projects/To_Upload/Llama2/llama2_projects/llama2_pdf_chatbot_faiss_windows/data/Hotline_Wiki.pdf', 'page': 11}),\n",
       " Document(page_content='the relevant fab. Our digital libraries and memories are characterized in the process fast/slow 3 Sigma\\nrange. 3 Sigma production means that 99.73% of the delivered wafers are OK in terms of the stable\\nprocess parameters. The process parameters are monitored with PCM test structures on each wafer.\\nSo, if your digital design is DRC, LVS clean and the timing analysis with post layout extraction is OK at\\nthe conditions: PVT = wp(fast), VDD_max, Tj_min PVT = ws(slow), VDD_min, Tj_max then you can', metadata={'source': 'C:/Users/Lukas/Desktop/My_Projects/To_Upload/Llama2/llama2_projects/llama2_pdf_chatbot_faiss_windows/data/Hotline_Wiki.pdf', 'page': 12}),\n",
       " Document(page_content=\"expect 99.73% yield of the digital block in terms of process parameter deviations. The majority of our\\ncustomers don't ask for corner lots for their projects, but some customers do it. The Vt and gate length\\nadjustments implied by your proposed corners impact the relevant transistor parameters for digital\\ntiming which are saturation current and threshold voltage. The usual flow for ordering corner lots begins\", metadata={'source': 'C:/Users/Lukas/Desktop/My_Projects/To_Upload/Llama2/llama2_projects/llama2_pdf_chatbot_faiss_windows/data/Hotline_Wiki.pdf', 'page': 12}),\n",
       " Document(page_content=\"with the customer identifying the critical process parameters for their design (might not be simply\\n'digital' parameters) and submitting a list of required corners (must conform to the PCM pass/fail\\nparameters) to X-FAB. The feasibility of such process variations will be checked by X-FAB (Customer\\nProjects team) and then a final corner split proposal is sent. The goal of such a corner should be to\", metadata={'source': 'C:/Users/Lukas/Desktop/My_Projects/To_Upload/Llama2/llama2_projects/llama2_pdf_chatbot_faiss_windows/data/Hotline_Wiki.pdf', 'page': 12}),\n",
       " Document(page_content='evaluate that the design would work at lower and upper spec limits. So the typical values are the upper\\nand lower limits of the PCM Acceptance Specification (PAS). Here are some comments that have been\\ncollected from one of our FSEs: If you design according to the design rules, then the simulations should\\nbe sufficient. Some products require that the design rules be pushed to meet the performance\\nrequirements. In these cases, corner lots can identify process sensitivities where yield can be', metadata={'source': 'C:/Users/Lukas/Desktop/My_Projects/To_Upload/Llama2/llama2_projects/llama2_pdf_chatbot_faiss_windows/data/Hotline_Wiki.pdf', 'page': 12}),\n",
       " Document(page_content='compromised. I would estimate that less than 10% of my customers are relying on Corner Lots for\\ncharacterization, and these are generally only for high-volume products. When they do request they\\ntypically look at simple VTN/VTP, maybe HiRes Poly. The parameters are really design dependent.\\nEven when I do get customers running corner lots, I’m not getting much feedback and request for\\nproduct specific parametric targeting. This leads to my perception about the accuracy of the', metadata={'source': 'C:/Users/Lukas/Desktop/My_Projects/To_Upload/Llama2/llama2_projects/llama2_pdf_chatbot_faiss_windows/data/Hotline_Wiki.pdf', 'page': 12}),\n",
       " Document(page_content='simulations. Potentially more effective than corner lots is coordinating a yield feedback loop once\\nproducts are released to production. If we get your yield, bin, etc. information and input it into our yield\\nenhancement software, we can correlate to equipment, inline, PCM, visual inspection, etc. Customers\\nthat work with us on this feedback will achieve yield stabilization much more quickly than without. We', metadata={'source': 'C:/Users/Lukas/Desktop/My_Projects/To_Upload/Llama2/llama2_projects/llama2_pdf_chatbot_faiss_windows/data/Hotline_Wiki.pdf', 'page': 12}),\n",
       " Document(page_content='can work with you to review your Wafer/Final Test and coordinate the best means for yield feedback.\\nOne of our application engineers expanded on those comments: The customers that do request corner\\nlots usually settle on +/-3 sigma for the parameters they are interested in. The LV MOS VT parameters\\nare usually selected. Beyond that it really depends on the specifics of the process options the customer', metadata={'source': 'C:/Users/Lukas/Desktop/My_Projects/To_Upload/Llama2/llama2_projects/llama2_pdf_chatbot_faiss_windows/data/Hotline_Wiki.pdf', 'page': 12}),\n",
       " Document(page_content='has chosen and the sensitivities their designers are most concerned with. However, there are some\\nsignificant limitations on what parameters can be varied cleanly in a corner split. The LV MOS VT\\nparameters are relatively straight forward because there is usually a separate VT adjust implant used\\non them that is separate from the well implant that controls breakdown and punch through, however\\nthere are usually a few interactions that can’t be avoided (like output resistance and nw sheet', metadata={'source': 'C:/Users/Lukas/Desktop/My_Projects/To_Upload/Llama2/llama2_projects/llama2_pdf_chatbot_faiss_windows/data/Hotline_Wiki.pdf', 'page': 12}),\n",
       " Document(page_content='resistance). The high sheet resistance poly resistors are generally easy to vary because there is usually\\na dedicated implant for that parameter. Beyond that things get more difficult. The HV transistor VT is\\nsometimes split but there is almost always an interaction with transistor BVDSS, punch through,\\nsometimes field threshold and often other parameters which can complicate evaluating the split. Other', metadata={'source': 'C:/Users/Lukas/Desktop/My_Projects/To_Upload/Llama2/llama2_projects/llama2_pdf_chatbot_faiss_windows/data/Hotline_Wiki.pdf', 'page': 12}),\n",
       " Document(page_content='parameters are very difficult or expensive to split such as gate oxide thickness or capacitor values\\nbecause they require dedicated diffusion or deposition runs that use the capacity of five or 6 lots for\\neach split. My background is process development and I used to be a big fan of corner splits and ran a\\nlot of them myself. I eventually concluded that they were not that useful for three reasons: 1. Too often', metadata={'source': 'C:/Users/Lukas/Desktop/My_Projects/To_Upload/Llama2/llama2_projects/llama2_pdf_chatbot_faiss_windows/data/Hotline_Wiki.pdf', 'page': 12}),\n",
       " Document(page_content='there are parameter interactions that you cannot avoid which makes it difficult to impossible to get clean\\nresults from the splits. 2. You may plan for nominal, +3 sigma and -3 sigma splits but due to normal\\nprocess variation you usually end up with each of these splits +/- 1 sigma or so from your intended\\ntarget, e.g. -1 sigma, +2 sigma and -4 sigma, which again makes analysis difficult or impossible and', metadata={'source': 'C:/Users/Lukas/Desktop/My_Projects/To_Upload/Llama2/llama2_projects/llama2_pdf_chatbot_faiss_windows/data/Hotline_Wiki.pdf', 'page': 12}),\n",
       " Document(page_content=\"may result in some splits being non-functional. 3. The corner splits are arranged by artificially varying\\none process parameter, such as the VT implant. In actual production lots each device parameter varies\\n'naturally' due to the interaction of several different process parameters. Each of these parameters has\\na different magnitude and direction impact on several different device parameters, usually for several\", metadata={'source': 'C:/Users/Lukas/Desktop/My_Projects/To_Upload/Llama2/llama2_projects/llama2_pdf_chatbot_faiss_windows/data/Hotline_Wiki.pdf', 'page': 12}),\n",
       " Document(page_content='different devices. As a result multiple device parameters tend to vary in a complex but related way. The', metadata={'source': 'C:/Users/Lukas/Desktop/My_Projects/To_Upload/Llama2/llama2_projects/llama2_pdf_chatbot_faiss_windows/data/Hotline_Wiki.pdf', 'page': 12}),\n",
       " Document(page_content='corner split procedure does not reproduce this pattern so while you may get the target parameter to\\nvary the way you want, the other device parameters will vary in a completely different way than you will\\nsee in actual production lots. For digital blocks this is probably not an important issue but for analog or\\nRF blocks it may give a completely misleading result. I hope this input is helpful in your\\ndecision-making.\\nQuestion: Can X-FAB processes be used at\\ncryogenic temperatures?', metadata={'source': 'C:/Users/Lukas/Desktop/My_Projects/To_Upload/Llama2/llama2_projects/llama2_pdf_chatbot_faiss_windows/data/Hotline_Wiki.pdf', 'page': 13}),\n",
       " Document(page_content=\"cryogenic temperatures?\\nAnswer: X-FAB generally does not have data at low temperatures below our operating range limits. We\\ndo have customers that use our technologies outside of our specified operating temperature limits, but\\nin such cases the customer is responsible for qualifying the design in their application's temperature\\nrange. You may have noticed that the PDS states that the simulation models are valid in the junction\", metadata={'source': 'C:/Users/Lukas/Desktop/My_Projects/To_Upload/Llama2/llama2_projects/llama2_pdf_chatbot_faiss_windows/data/Hotline_Wiki.pdf', 'page': 13}),\n",
       " Document(page_content='temperature range down to -55C. As example, the XH018 PDS also specifies: The junction\\ntemperature range is defined as: Operating conditions: Tj = -40C +175C Absolute maximum ratings: Tj\\n= -55C / +185C In general we are not aware of any specific process problems with operating down to\\n-55C, however, we also say absolute max ratings must not be sustained for long periods (hence why\\ncustomers need to perform their own qualification). For the range down to -55C, we can only mention', metadata={'source': 'C:/Users/Lukas/Desktop/My_Projects/To_Upload/Llama2/llama2_projects/llama2_pdf_chatbot_faiss_windows/data/Hotline_Wiki.pdf', 'page': 13}),\n",
       " Document(page_content='some qualitative aspects. These cannot be quantified or supported by real measurement results\\nbecause we neither characterize nor qualify to that temperature. Possible trends are: 1) HCI drift may\\nget worse - but it may be mitigated because in the state where HCI is happening, current is flowing, and\\nthe transistor sees some self-heating. 2) The transistor junction breakdown voltages could be slightly', metadata={'source': 'C:/Users/Lukas/Desktop/My_Projects/To_Upload/Llama2/llama2_projects/llama2_pdf_chatbot_faiss_windows/data/Hotline_Wiki.pdf', 'page': 13}),\n",
       " Document(page_content='reduced. Clearly 77K (-196C) is significantly beyond our absolute minimum operating range, so full\\ncharacterization/qualification on your side will be necessary to ensure you have a robust product. I am\\nno expert in such low temperatures but I have heard of terms such as carrier freeze out which can\\ncome into play, but such issues only amplify the requirement to do the characterization and\\nqualification. X-FAB does not have the capability (or business justification) to offer such low', metadata={'source': 'C:/Users/Lukas/Desktop/My_Projects/To_Upload/Llama2/llama2_projects/llama2_pdf_chatbot_faiss_windows/data/Hotline_Wiki.pdf', 'page': 13}),\n",
       " Document(page_content=\"temperature characterization (below -40C) so I'm afraid we cannot help you in that respect. I'm not\\nreally aware of a third party who could do such work either, although I'd suggest you look at our partner\\nnetwork (see X-CHAIN on our website) in case you can make some contacts there. Perhaps one of the\\nTest/Assembly companies could be of interest. You might also consider trying to talk to a Space\", metadata={'source': 'C:/Users/Lukas/Desktop/My_Projects/To_Upload/Llama2/llama2_projects/llama2_pdf_chatbot_faiss_windows/data/Hotline_Wiki.pdf', 'page': 13}),\n",
       " Document(page_content=\"company (or their suppliers if you know who they might be) to see if they can do this or put you in touch\\nwith someone who can.\\nQuestion: What exactly does the ESD module do and\\nwhy is it not available for all MOS devices if it\\nimproves ESD robustness?\\nAnswer: Usually in older technology nodes such as CX08, the ESD implant of the ESD module is\\nadded to aid with a vertical 'spike' issue that occurs under high current (such as an ESD pulse) when\", metadata={'source': 'C:/Users/Lukas/Desktop/My_Projects/To_Upload/Llama2/llama2_projects/llama2_pdf_chatbot_faiss_windows/data/Hotline_Wiki.pdf', 'page': 13}),\n",
       " Document(page_content=\"the aluminum (which is slightly p-type) in the contact can 'spike' through the n-junction and short it to\\nthe P-bulk below. The ESD (n-type) implant is deeper than the normal n-junction, preventing a short\\nfrom occurring. The p-junction is not shorted out in the same circumstance, so ESD implant is not\\nneeded on p-devices.\", metadata={'source': 'C:/Users/Lukas/Desktop/My_Projects/To_Upload/Llama2/llama2_projects/llama2_pdf_chatbot_faiss_windows/data/Hotline_Wiki.pdf', 'page': 13}),\n",
       " Document(page_content='Question: How do I display DC operating parameters\\nthat I expect but are not shown on the schematic?\\nAnswer: Some DC operating parameters that are available in the Results Browser may not be\\ndisplayable in the schematic. You might try adding all the required parameters to the ADE L Outputs\\nwindow. This would help you to view your results after your run instead of looking into the Results\\nBrowser every time. This can be done as follows. 1) Run your DC simulation. 2) Goto ADE L → Tools', metadata={'source': 'C:/Users/Lukas/Desktop/My_Projects/To_Upload/Llama2/llama2_projects/llama2_pdf_chatbot_faiss_windows/data/Hotline_Wiki.pdf', 'page': 14}),\n",
       " Document(page_content='→ Results Browser 3) Double click on dcOpInfo and choose the required transistor; there you can find\\nall the parameters. 4) Right click on the required parameter and then click on Calculator. 5) You can\\neither copy this expression and add to your ADE L Outputs or you can just click on Send Buffer\\nexpression to ADE Outputs and this will send your calculator expression to your ADE L Outputs. You\\ncan also name your expression. Consider the operating point tables out of Cadence with caution. The', metadata={'source': 'C:/Users/Lukas/Desktop/My_Projects/To_Upload/Llama2/llama2_projects/llama2_pdf_chatbot_faiss_windows/data/Hotline_Wiki.pdf', 'page': 14}),\n",
       " Document(page_content='CDF parameters Cadence produces are not always conformant with a SPICE simulation or even\\ncertain model card parameters. For example, often Cadence does not take into account all\\ncapacitances from a model, especially if it is a macro model. Or in other words, it is not quite clear if the\\ncapacitance calculated is the actual capacitance resulting from a SPICE simulation.\\nQuestion: Why are the breakdown voltage\\nparameters generally significantly different from the\\noperating limits?', metadata={'source': 'C:/Users/Lukas/Desktop/My_Projects/To_Upload/Llama2/llama2_projects/llama2_pdf_chatbot_faiss_windows/data/Hotline_Wiki.pdf', 'page': 14}),\n",
       " Document(page_content='operating limits?\\nAnswer: The device electrical parameters are those measured either at PCM (on every wafer\\nmanufactured) or during a characterization phase of the development. The min/max values being\\ndefined by the measured results and then engineering experience to set the min/max limits. For\\nbreakdown voltage, these values are when the device fails at the time of measurement. In contast the\\nOperating Conditions are defined to ensure that the device will survive for 10 years. The accelerated', metadata={'source': 'C:/Users/Lukas/Desktop/My_Projects/To_Upload/Llama2/llama2_projects/llama2_pdf_chatbot_faiss_windows/data/Hotline_Wiki.pdf', 'page': 14}),\n",
       " Document(page_content='life test has been/will be performed at these ratings (depending upon status of process, conditional or\\nreleased).\"\\nQuestion: Is it okay if I exceed a transistor\\'s\\noperating limit by such-and-such amount?\\nAnswer: The BV of a transistor is a kind of \\'digital\\' description of the transistor strength. But the real life\\nis manifold. Therefore reliability tests are performed to describe the transistor strength for the real world', metadata={'source': 'C:/Users/Lukas/Desktop/My_Projects/To_Upload/Llama2/llama2_projects/llama2_pdf_chatbot_faiss_windows/data/Hotline_Wiki.pdf', 'page': 14}),\n",
       " Document(page_content='conditions. If the operating conditions are far away from the electrical limits there is no danger. But if\\nthe operating conditions get closer to the electrical limits the probability of malfunction or damage\\nincreases. Each MOS transistor consists of a parasitic bipolar transistor. This parasitic bipolar transistor\\nmakes the MOS transistor sensitive to pulses. The sensitivity depends on many factors. On the one', metadata={'source': 'C:/Users/Lukas/Desktop/My_Projects/To_Upload/Llama2/llama2_projects/llama2_pdf_chatbot_faiss_windows/data/Hotline_Wiki.pdf', 'page': 14}),\n",
       " Document(page_content='hand on the pulse characteristics (amplitude, length, duty cycle, rise and fall time, ripple, frequency,\\netc.). On the other hand factors include the transistor layout (size, construction, spacing to substrate', metadata={'source': 'C:/Users/Lukas/Desktop/My_Projects/To_Upload/Llama2/llama2_projects/llama2_pdf_chatbot_faiss_windows/data/Hotline_Wiki.pdf', 'page': 14}),\n",
       " Document(page_content='contacts, etc.). There is an unlimited amount of possible scenarios. This is what it makes very difficult to\\njudge whether special conditions can be allowed or not. Therefore only one general recommendation:\\nnever exceed the specified operating limits.\\nQuestion: What is the difference between protection\\ndiodes and other diodes?\\nAnswer: A protection diode needs to carry a relatively high amount of current in breakdown to really', metadata={'source': 'C:/Users/Lukas/Desktop/My_Projects/To_Upload/Llama2/llama2_projects/llama2_pdf_chatbot_faiss_windows/data/Hotline_Wiki.pdf', 'page': 15}),\n",
       " Document(page_content=\"protect the circuit, otherwise the voltage drop at the device to be protected can still be too high and do\\ndamage to it. Therefore it is measured at higher currents. Protection diodes are 'designed' to have a\\ncertain breakdown voltage which is defined rather by layout (overlap of wells, distances) not by doping\\nprofile. Note that usually it is more a concern about the contacts and wiring when looking at the current\\nlimits, rather than the diode parameters.\", metadata={'source': 'C:/Users/Lukas/Desktop/My_Projects/To_Upload/Llama2/llama2_projects/llama2_pdf_chatbot_faiss_windows/data/Hotline_Wiki.pdf', 'page': 15}),\n",
       " Document(page_content='limits, rather than the diode parameters.\\nQuestion: Can I ignore DRC errors on my logo\\nelements?\\nAnswer: Although a logo strucure is not a circuit element, it can be very dangerous, in some cases, to\\nwaive logo DRC errors. For example, metals and/or photo-resist that are below minimum width may\\nfloat off the silicon during the processing and then get deposited elsewhere on the design and cause\\nchip failures.\\nQuestion: Which DRC rules are classified as fatal?', metadata={'source': 'C:/Users/Lukas/Desktop/My_Projects/To_Upload/Llama2/llama2_projects/llama2_pdf_chatbot_faiss_windows/data/Hotline_Wiki.pdf', 'page': 15}),\n",
       " Document(page_content=\"Answer: We do not publish a list of Fatal vs Critical errors as they are constantly under review and\\npublication would imply that there are some errors that we don't mind the customer violating - that is not\\nthe case. We encourage customers to correct all errors - this will produce the best possible outcome on\\nsilicon. When there are special reasons that some errors cannot be fixed on layout, then we can\\ndiscuss via the waiver system.\\nQuestion: Should I include pattern in my design, or\", metadata={'source': 'C:/Users/Lukas/Desktop/My_Projects/To_Upload/Llama2/llama2_projects/llama2_pdf_chatbot_faiss_windows/data/Hotline_Wiki.pdf', 'page': 15}),\n",
       " Document(page_content=\"will X-FAB perform the pattern fill?\\nAnswer: For technologies that specify density limits and include one or more blocking layers for the fill,\\nthe fab will perform it. The DRC runsets for our 180nm technologies can generate 'virtual' dummies that\\nare taken into account during DRC. It is also possible to have the runset export the dummies to GDS\\nsuch that you could merge it with your design. The problem with the dummy generation is that all\", metadata={'source': 'C:/Users/Lukas/Desktop/My_Projects/To_Upload/Llama2/llama2_projects/llama2_pdf_chatbot_faiss_windows/data/Hotline_Wiki.pdf', 'page': 15}),\n",
       " Document(page_content='structures are flat, which results in larger GDS files. Therefore it is recommended to let our Mask\\nTooling group do the pattern fill. For capacitively critical structures, relevant metal layers only should be', metadata={'source': 'C:/Users/Lukas/Desktop/My_Projects/To_Upload/Llama2/llama2_projects/llama2_pdf_chatbot_faiss_windows/data/Hotline_Wiki.pdf', 'page': 15}),\n",
       " Document(page_content=\"blocked rather than using the BLKALL layer. The parasitic extraction runsets can C-extract these\\nstructures for determining their impact on the performance. The fill routines observe spacing margin\\nand dummy size rules -- one consequence of that is the fill routine is not guaranteed to satisfy the\\nminimum density rules. When that's the case, you may need to apply some extra effort, such as\\nmanually drawing a denser fill pattern.\\nQuestion: What is the purpose of the technology\", metadata={'source': 'C:/Users/Lukas/Desktop/My_Projects/To_Upload/Llama2/llama2_projects/llama2_pdf_chatbot_faiss_windows/data/Hotline_Wiki.pdf', 'page': 16}),\n",
       " Document(page_content=\"Question: What is the purpose of the technology\\nlibraries with an 'HD' suffix?\\nAnswer: Using xh018 as example, TECH_XH018 is the primary technology library to use.\\nTECH_XH018_HD is a supplementary library, to be used in addition to TECH_X018, when the HD\\n(high density) logic libraries (D_CELLS_*HD*) are used. It accounts for the tighter routing grid used by\\nthe HD logic libraries for P&R.; Originally, the HD tech library was developed as a supplementary\", metadata={'source': 'C:/Users/Lukas/Desktop/My_Projects/To_Upload/Llama2/llama2_projects/llama2_pdf_chatbot_faiss_windows/data/Hotline_Wiki.pdf', 'page': 16}),\n",
       " Document(page_content='library, meaning both the normal and HD libraries should be used (referenced by a design library using\\nan HD logic library for P&R;). We then decided to make the HD tech library more complete such that on\\nthe HD tech lib needed to be referenced by the design library. In such case, if you try to reference both\\ntech libs, you will get a conflict error. More recently, we have reverted back to the original style.\\nQuestion: Are ELDO views for Cadence PDKs\\navailable?', metadata={'source': 'C:/Users/Lukas/Desktop/My_Projects/To_Upload/Llama2/llama2_projects/llama2_pdf_chatbot_faiss_windows/data/Hotline_Wiki.pdf', 'page': 16}),\n",
       " Document(page_content=\"available?\\nAnswer: Unfortunately we don't support ELDO views in our Cadence PDKs. An extra license is\\nnecessary to test such views in Cadence libraries, and we do not have that currently in X-FAB, so we\\ncannot check and guarantee the correctness of such views. In principle it might be possible for a\\ncustomer to use ELDO as a simulator within Cadence, although a hurdle may be the netlisting for the\", metadata={'source': 'C:/Users/Lukas/Desktop/My_Projects/To_Upload/Llama2/llama2_projects/llama2_pdf_chatbot_faiss_windows/data/Hotline_Wiki.pdf', 'page': 16}),\n",
       " Document(page_content=\"simulator, which may have some specific aspects different from the netlisting for Spectre or for HSpice.\\nThe conclusion is that X-FAB does not support ELDO simulation from Virtuoso within Cadence and that\\nwe don't have any instructions for those attempting to do so.\\nQuestion: Concerning electromigration tests, which\\nAC/DC factor do you recommend?\\nAnswer: We usually calculate with a DC to AC conversion factor of 10. It is referred to the Pass/Fail\", metadata={'source': 'C:/Users/Lukas/Desktop/My_Projects/To_Upload/Llama2/llama2_projects/llama2_pdf_chatbot_faiss_windows/data/Hotline_Wiki.pdf', 'page': 16}),\n",
       " Document(page_content='margin at 0.1% error probability for the individual test.\\nQuestion: Are the specified current density limits\\nsufficient for metal width when considering ESD?', metadata={'source': 'C:/Users/Lukas/Desktop/My_Projects/To_Upload/Llama2/llama2_projects/llama2_pdf_chatbot_faiss_windows/data/Hotline_Wiki.pdf', 'page': 16}),\n",
       " Document(page_content='Answer: Regarding the required metal width for ESD, usually the metal resistance is critical and not the\\ncurrent density/current capability of the metal. The current density for HBM ESD pulses is in the range\\nof several hundred mA/um width (e.g. 300-400mA/um). Only narrow metal lines would be damaged by\\nESD stress currents. The metal resistance is critical since voltage drops across power rails will add to', metadata={'source': 'C:/Users/Lukas/Desktop/My_Projects/To_Upload/Llama2/llama2_projects/llama2_pdf_chatbot_faiss_windows/data/Hotline_Wiki.pdf', 'page': 17}),\n",
       " Document(page_content='the pad clamping voltage. Especially in the rail-based protection scheme the power rail resistance is\\ncritical. Concerning the power rail width, power rails should provide as rule of thumb a DC current\\ncapability of 50mA for 2kV HBM ESD robustness. A different metal resistance in the connections of\\nmulti-finger ESD protection devices can result in non-uniform current distribution and early failure of the', metadata={'source': 'C:/Users/Lukas/Desktop/My_Projects/To_Upload/Llama2/llama2_projects/llama2_pdf_chatbot_faiss_windows/data/Hotline_Wiki.pdf', 'page': 17}),\n",
       " Document(page_content='ESD protection structure. Typical layout errors are e.g. largely different metal width in anode and\\ncathode metal connections of diodes resulting in a current concentration in a small area of the diode or\\na largely different metal width between drain metal and source metal in ESD nmos snap-back devices\\nresulting as well in non-uniform current distribution.\\nQuestion: What is the procedure for an IO/ESD\\nreview by X-FAB of our design?', metadata={'source': 'C:/Users/Lukas/Desktop/My_Projects/To_Upload/Llama2/llama2_projects/llama2_pdf_chatbot_faiss_windows/data/Hotline_Wiki.pdf', 'page': 17}),\n",
       " Document(page_content=\"review by X-FAB of our design?\\nAnswer: The customer sends the layouts, schematics and all relevant descriptions (e.g. normal pin\\noperating voltages, max. ratings, required ESD robustness, etc.) to X-FAB (Hotline). It is important for\\nthe review that when any type of analog IO cell (LV or HV) is used, also the circuitry that connects\\ndirectly to the pad must be shown. We'll review the design data and provide first results via email.\", metadata={'source': 'C:/Users/Lukas/Desktop/My_Projects/To_Upload/Llama2/llama2_projects/llama2_pdf_chatbot_faiss_windows/data/Hotline_Wiki.pdf', 'page': 17}),\n",
       " Document(page_content='There can then be further review loops after design changes. There can then be also further online or\\nface-to-face meetings for clarification - if required. A design review in an online meeting or face-to-face\\nmeeting is not appropriate. There is a higher risk that possible ESD design issues are overlooked when\\nthere is just a browsing through the design during an online meeting. Therefore an offline review is\\npreferred.\\nQuestion: How do I use the various GATES* logic\\nlibraries?', metadata={'source': 'C:/Users/Lukas/Desktop/My_Projects/To_Upload/Llama2/llama2_projects/llama2_pdf_chatbot_faiss_windows/data/Hotline_Wiki.pdf', 'page': 17}),\n",
       " Document(page_content='libraries?\\nAnswer: The GATES* libraries are schematic & parameters only libraries which are used as referenced\\n\\'building block\\' gates libraries inside the D_CELLS* libraries. They support only the schematic side of\\nthe respective D_CELLS* libraries (the *rev_info.txt file of a given D_CELLS* library will specify which\\nGATES* library it requires). Therefore the GATES* libraries cannot and must not be used as a\\nstand-alone library.\"\\nQuestion: What is the GATES_PCELL library that is', metadata={'source': 'C:/Users/Lukas/Desktop/My_Projects/To_Upload/Llama2/llama2_projects/llama2_pdf_chatbot_faiss_windows/data/Hotline_Wiki.pdf', 'page': 17}),\n",
       " Document(page_content='Question: What is the GATES_PCELL library that is\\navailable for several technologies?\\nAnswer: The library is classified as an analog library for the purpose of my X-FAB organization: under\\nDesign > EDA Files, filter to Libraries > Analog > GATES_PCELL. However, unlike our other analog\\nlibraries, these GATES_PCELL libraries are freely available to customers -- there is no license\\nrequirement or fee. Within the library is a userguide document. As the library name inplies, it provides', metadata={'source': 'C:/Users/Lukas/Desktop/My_Projects/To_Upload/Llama2/llama2_projects/llama2_pdf_chatbot_faiss_windows/data/Hotline_Wiki.pdf', 'page': 17}),\n",
       " Document(page_content=\"parameterized cells for some types of gates (some basic logic functions, transmission gates, and other\\nrelated special purpose cells). The introduction in the userguide states: 'The intention of this library is to\\nprovide a cell library for analogue components. This includes layout, schematics and verilog. It is not\\nthe intention to use the components in a digital design flow. You must use characterised cells instead.'\\nQuestion: My layout was flagged for containing BOX\", metadata={'source': 'C:/Users/Lukas/Desktop/My_Projects/To_Upload/Llama2/llama2_projects/llama2_pdf_chatbot_faiss_windows/data/Hotline_Wiki.pdf', 'page': 18}),\n",
       " Document(page_content=\"elements. What are they and why are they not\\naccepted?\\nAnswer: The issue with BOX elements is described in the 'Guideline for GDSII data' document on my\\nX-FAB: https://my.xfab.com/search/_action/relation/596e0b4e-74cd-47af-96ae-87dd43b1bdf5/ Unlike\\nthe boundary, the BOX element is not a filled figure. Therefore it cannot be used for IC geometry.\\nQuestion: Why do simulations of transistor leakage\\nproduce inaccurate results that are independent of\\ndevice widths?\", metadata={'source': 'C:/Users/Lukas/Desktop/My_Projects/To_Upload/Llama2/llama2_projects/llama2_pdf_chatbot_faiss_windows/data/Hotline_Wiki.pdf', 'page': 18}),\n",
       " Document(page_content=\"device widths?\\nAnswer: This issue is related to the default gmin setting of the simulator, which is gmin=1e-12. This\\ngives every node a conductivity of 1e-12 to aid convergence. That means basically it 'adds' at 1V a\\ncurrent of 1e-12A. Therefore this is not dependent on the transistor's width. To get correct results for\\nsuch diode currents of small devices at T=27C you need to set gmin=1e-18. Please note that for some\\nsimulators (like hspice), there are separate parameters: gmin and gmindc.\", metadata={'source': 'C:/Users/Lukas/Desktop/My_Projects/To_Upload/Llama2/llama2_projects/llama2_pdf_chatbot_faiss_windows/data/Hotline_Wiki.pdf', 'page': 18}),\n",
       " Document(page_content=\"Question: Can X-FAB provide IBIS models?\\nAnswer: X-FAB does not support IBIS models. This falls beyond the scope of X-FAB's modelling and\\nlibrary support, as we are a pure-play wafer manufacturer. As I understand it, the IBIS model provides\\nI/O device characteristics through V/I data and switching characteristics in ASCII format. The IBIS\\nmodels are meant for the transfer of data and not to define an executable simulation model. They are\", metadata={'source': 'C:/Users/Lukas/Desktop/My_Projects/To_Upload/Llama2/llama2_projects/llama2_pdf_chatbot_faiss_windows/data/Hotline_Wiki.pdf', 'page': 18}),\n",
       " Document(page_content=\"component specific, which means that they model an entire component (e.g. an FPGA) and not just a\\nparticular I/O. IBIS models are supposed to serve for implementing the behavior of I/Os into a\\ntechnology independent PCB level EMC simulation environment. We cannot provide correct IBIS\\nmodels since we don't have all the required package and pin related data. I/O cell characteristics are\\navailable in data sheets, Verilog models and especially the timing (Liberty format) files, which you could\", metadata={'source': 'C:/Users/Lukas/Desktop/My_Projects/To_Upload/Llama2/llama2_projects/llama2_pdf_chatbot_faiss_windows/data/Hotline_Wiki.pdf', 'page': 18}),\n",
       " Document(page_content='use to generate the switching characteristic for an IBIS model.\\nQuestion: What is the maximum recommended\\ntemperature for wafer post processing?', metadata={'source': 'C:/Users/Lukas/Desktop/My_Projects/To_Upload/Llama2/llama2_projects/llama2_pdf_chatbot_faiss_windows/data/Hotline_Wiki.pdf', 'page': 18}),\n",
       " Document(page_content='Answer: For post-processing, we generally recommend that temperatures above 350C should be\\nabsolutely prevented. Higher temperatures can lead to metal-passivation or capacitor popping, IMD\\ncracking, transistor shifts, metal voiding, enhanced Rpoly and especially RpolyH shifts depending on\\ndesign, temperature ramp rate, duration and application atmosphere (N2, H2, etc.). If >350C cannot be\\navoided, we strongly recommend a DOE with the respective IC design using enhanced final test and', metadata={'source': 'C:/Users/Lukas/Desktop/My_Projects/To_Upload/Llama2/llama2_projects/llama2_pdf_chatbot_faiss_windows/data/Hotline_Wiki.pdf', 'page': 19}),\n",
       " Document(page_content=\"also proper optical inspections after slightly accelerated post-processing stress (e.g. slightly increased\\nramp rates, slightly longer storage times).\\nQuestion: Why can't my account download a memory\\ncompiler?\\nAnswer: Sorry, X-FAB does not distribute our memory compiler software to customers. Instead, a\\ncompiler must be run from my X-FAB. To do so, click the 'play' icon in the action column (when you rest\", metadata={'source': 'C:/Users/Lukas/Desktop/My_Projects/To_Upload/Llama2/llama2_projects/llama2_pdf_chatbot_faiss_windows/data/Hotline_Wiki.pdf', 'page': 19}),\n",
       " Document(page_content=\"your mouse pointer over the icon, the pop-up text 'Start the application of this container' will be\\ndisplayed). After specifying configuration options of the desired memory, the front-end design data will\\nbe available for download. As this is blackbox IP, the netlist and layout will not be provided. When you\\nhave decided on a particular configuration to use for a tape-out, please check with your X-FAB Sales\", metadata={'source': 'C:/Users/Lukas/Desktop/My_Projects/To_Upload/Llama2/llama2_projects/llama2_pdf_chatbot_faiss_windows/data/Hotline_Wiki.pdf', 'page': 19}),\n",
       " Document(page_content='contact to ensure the license agreement and P.O. are in place before submitting your design. Blackbox\\nIP replacement approval is one of the first checks on a newly submitted SiFo -- if the L.A. and P.O. are\\nnot available, the SiFo will be held at the step and not proceed to have data input checks (includes\\nDRC) performed. The license incurs a one-time fee, rather than royalties, and you can then instantiate', metadata={'source': 'C:/Users/Lukas/Desktop/My_Projects/To_Upload/Llama2/llama2_projects/llama2_pdf_chatbot_faiss_windows/data/Hotline_Wiki.pdf', 'page': 19}),\n",
       " Document(page_content=\"the IP as often as you'd like in subsequent designs. (For ROM IP, each future reprogramming will incur\\na small fee.)\\nQuestion: Comparing the metal thicknesses of the\\nbond pad stack to those of the Structural and\\nGeometrical Parameters, why are the metal layers\\nthinner on the bond pad?\\nAnswer: The Structural and Geometrical Parameters show the metal layer thicknesses as deposited.\\nHowever if you have large oxide windows as are there on the bond pad structures, then the pad metal\", metadata={'source': 'C:/Users/Lukas/Desktop/My_Projects/To_Upload/Llama2/llama2_projects/llama2_pdf_chatbot_faiss_windows/data/Hotline_Wiki.pdf', 'page': 19}),\n",
       " Document(page_content='is thinned (etched back), and this results in thinner metal layers directly on the bonding pads. Some\\nprocess documents have the bond pad diagrams showing each metal layer with an ARC layer on top\\nand below the metal. These ARC layers are relatively thin. The deposited thickness parameters include\\nthe ARC layers since they affect the stack thickness and hence all the parasitic capacitances. When the', metadata={'source': 'C:/Users/Lukas/Desktop/My_Projects/To_Upload/Llama2/llama2_projects/llama2_pdf_chatbot_faiss_windows/data/Hotline_Wiki.pdf', 'page': 19}),\n",
       " Document(page_content='passivation window is opened onto the top metal, the final ARC layer is removed. Hence the bonding\\npad diagrams and associated note indicate a lesser thickness. D_CELLS What are DECAP cells for?\\nThese cells provide capacitors between vdd and gnd to reduce digital noise and IR drop. They are\\nusually inserted during P&R; after routing (where existing routing allows). In a second step, FEED* cells', metadata={'source': 'C:/Users/Lukas/Desktop/My_Projects/To_Upload/Llama2/llama2_projects/llama2_pdf_chatbot_faiss_windows/data/Hotline_Wiki.pdf', 'page': 19}),\n",
       " Document(page_content='always have to be inserted to fill up the cell rows in places where no DECAP cells could be added. You\\nmay add (the larger, DECAP*15/DECAP*25) cells also before routing to have a certain amounnt of\\ncapacitors in the block, but these cells might have an influence on routability of the block. See Innovus', metadata={'source': 'C:/Users/Lukas/Desktop/My_Projects/To_Upload/Llama2/llama2_projects/llama2_pdf_chatbot_faiss_windows/data/Hotline_Wiki.pdf', 'page': 19}),\n",
       " Document(page_content='commands addFiller, deleteFiller for details.\"\\nQuestion: What is the PDL.txt file included with my\\nresults from the fab\\'s DRC run?\\nAnswer: The PDL (primitive device list) file is the result of a special LVS run that only extracts the\\nprimitive devices (including parasitic devices) present in your layout. The parasitic devices included\\n(p_*) would generally be diodes that are part of the structure of high voltage or isolated transistors. The', metadata={'source': 'C:/Users/Lukas/Desktop/My_Projects/To_Upload/Llama2/llama2_projects/llama2_pdf_chatbot_faiss_windows/data/Hotline_Wiki.pdf', 'page': 20}),\n",
       " Document(page_content=\"PDL file is for information only. There have been cases in some of our technologies where a primitive\\ndevice may be superseded by an improved version, or conceivably some issue under certain operating\\nconditions of a device may have been identified -- in such cases, our Customer Projects department\\nwould use the PDL to check if such devices are used in a customer's design and make sure the\\ncustomer is aware of the device's status.\\nQuestion: The PVS.sum DRC result will last error\", metadata={'source': 'C:/Users/Lukas/Desktop/My_Projects/To_Upload/Llama2/llama2_projects/llama2_pdf_chatbot_faiss_windows/data/Hotline_Wiki.pdf', 'page': 20}),\n",
       " Document(page_content='Question: The PVS.sum DRC result will last error\\ncounts for each rule like this: RULECHECK B1M2MIM\\n............. Total Result 68 ( 80) What is the distinction\\nbetween the two given numbers?\\nAnswer: In this example, the 68 is the hierarchy result and the 80 is the flat run result.\\nQuestion: How can I generate the PDL.txt file that is\\nincluded with my DRC results from the fab?\\nAnswer: The primitive device list is generated using PVS LVS. The command line option requires', metadata={'source': 'C:/Users/Lukas/Desktop/My_Projects/To_Upload/Llama2/llama2_projects/llama2_pdf_chatbot_faiss_windows/data/Hotline_Wiki.pdf', 'page': 20}),\n",
       " Document(page_content=\"setting parameters in a header file. Using the PVS LVS GUI may be easier for most users to extract a\\nlist of the primitive devices used in a given layout. 1. Open layout (read-only is OK) 2. PVS -> Run LVS\\n3. Input -> exclude comparison setup 4. Output -> LVS Report -> Click 'SET' button. 5. Apply/Submit to\\ninitiate the run. Results: Files/Output Files: Extraction report -> scroll to bottom of report. Or in the\", metadata={'source': 'C:/Users/Lukas/Desktop/My_Projects/To_Upload/Llama2/llama2_projects/llama2_pdf_chatbot_faiss_windows/data/Hotline_Wiki.pdf', 'page': 20}),\n",
       " Document(page_content=\"Extraction tab, Uncheck 'hide statistic' then click on flat device count. Or you can just open the _lvs.sum\\nfile from the run directory. The list is at the end of the file.\\nQuestion: Why didn't the fab's pattern fill clear the\\nR1DF (minimum DIFF density) errors?\", metadata={'source': 'C:/Users/Lukas/Desktop/My_Projects/To_Upload/Llama2/llama2_projects/llama2_pdf_chatbot_faiss_windows/data/Hotline_Wiki.pdf', 'page': 20}),\n",
       " Document(page_content=\"Answer: As flatly stated in the 'Dummy Pattern Generation' section of the Design Rule Specification,\\n'The dummy pattern generation script does not guarantee that the minimum and maximum structure\\ndensities of the related layer are met.' The document further recommends 'to use X-FAB's dummy\\npattern generation option (DUMMY_FILL included in the DRC for preview) to create dummy pattern. If\\nthe generated dummy pattern is not sufficient to meet the minimum requirements for pattern density,\", metadata={'source': 'C:/Users/Lukas/Desktop/My_Projects/To_Upload/Llama2/llama2_projects/llama2_pdf_chatbot_faiss_windows/data/Hotline_Wiki.pdf', 'page': 21}),\n",
       " Document(page_content=\"customers can draw additional dummy pattern following the dummy design rules...' -- the referenced\\nR1DF application note may be helpful (especially for the case of poly resistor arrays), or other\\nsituations might be solved by placing larger DIFF dummy structures. The *.rdb files from DRC will\\nindicate the pattern density of flagged windows (R1DF is checked in 200um square windows stepped\\nby 100um), which is given by the 'DV' parameter (multiply it by 100 for percentage).\", metadata={'source': 'C:/Users/Lukas/Desktop/My_Projects/To_Upload/Llama2/llama2_projects/llama2_pdf_chatbot_faiss_windows/data/Hotline_Wiki.pdf', 'page': 21}),\n",
       " Document(page_content='Question: What is the basis for Schottky diode\\nforward bias limit?\\nAnswer: It is important not to exceed the Vanode-Vcathode operating limit for the forward direction\\ncurrent. This would tend to exceed the allowable thermal load of the diode. Select an appropriate size\\nfor the intended current and to be safe, apply some margin with respect to the size.\\nQuestion: What is the convention for the SiFo major\\nand minor versioning?', metadata={'source': 'C:/Users/Lukas/Desktop/My_Projects/To_Upload/Llama2/llama2_projects/llama2_pdf_chatbot_faiss_windows/data/Hotline_Wiki.pdf', 'page': 21}),\n",
       " Document(page_content=\"and minor versioning?\\nAnswer: The major version indicates how often a SiFo was sent to X-FAB AND went into the Data Input\\nCheck loop. The minor version indicates how often a SiFo was edited AND saved in my X-FAB.\\nQuestion: What are X-FAB's recommendations for\\ntiming signoff?\\nAnswer: For 0.18 tech STA we have the 0.18um-ApplicationNote-Digital_Implementation_Guidelines\\ndocument. https://my.xfab.com/search/_action/relation/4aeecb61-a2b5-4d16-ab9a-f6a4457c583f/ On\", metadata={'source': 'C:/Users/Lukas/Desktop/My_Projects/To_Upload/Llama2/llama2_projects/llama2_pdf_chatbot_faiss_windows/data/Hotline_Wiki.pdf', 'page': 21}),\n",
       " Document(page_content=\"page 7, section 6.3 it states A further set_timing derate ... is not needed as only the variation of the pin\\ninput capacitances is modelled in X-FAB's 180nm libraries. Further up to now we did not recommend\\nany derating to customers. It's your responsibility (and sometimes based on your internal quality\\nrequirement) how much margin you add to a timing analysis. In our standard P&R; STA's we always\", metadata={'source': 'C:/Users/Lukas/Desktop/My_Projects/To_Upload/Llama2/llama2_projects/llama2_pdf_chatbot_faiss_windows/data/Hotline_Wiki.pdf', 'page': 21}),\n",
       " Document(page_content=\"use OCV (with no further de rating) in PrimeTime as this is PT's default method. In Innovus we run up\\nto routing the simple and faster bc/wc delay calculation, only for post-route optimization we switch to\\nOCV (when we don't forget that one line in the scripting...). From our customers base we know, we\\ncould give you few scenarios: Customer 1: (mostly XH018): they add +/-15% to the delay calculation\\n(requested by their quality department): set_timing_derate -cell_delay -net_delay -early 0.85\", metadata={'source': 'C:/Users/Lukas/Desktop/My_Projects/To_Upload/Llama2/llama2_projects/llama2_pdf_chatbot_faiss_windows/data/Hotline_Wiki.pdf', 'page': 21}),\n",
       " Document(page_content='set_timing_derate -cell_delay -net_delay -late 1.15 in sdc Customer 2: We used +/-5% for their XP018\\nredesign (their first design had no timing closure with our standard settings without derating, so they\\nneeded a special process modification to get working silicon at all). set_timing_derate -cell_delay\\n-net_delay -early 0.95 set_timing_derate -cell_delay -net_delay -late 1.05 (Their redesign had timing', metadata={'source': 'C:/Users/Lukas/Desktop/My_Projects/To_Upload/Llama2/llama2_projects/llama2_pdf_chatbot_faiss_windows/data/Hotline_Wiki.pdf', 'page': 21}),\n",
       " Document(page_content=\"closure with this additional margin). For a complete STA you have to run 3 sets: - the 'normal' one\\nwithout derating - the pessimistic one: set_timing_derate -cell_delay -net_delay -early 0.95\\nset_timing_derate -cell_delay -net_delay -late 1.05 - and the optimistic one: set_timing_derate\\n-cell_delay -net_delay -early 1.05 set_timing_derate -cell_delay -net_delay -late 0.95 to have a\\ncomplete picture. Basically we believe the more derating margin you add, the lesser confidence you\", metadata={'source': 'C:/Users/Lukas/Desktop/My_Projects/To_Upload/Llama2/llama2_projects/llama2_pdf_chatbot_faiss_windows/data/Hotline_Wiki.pdf', 'page': 22}),\n",
       " Document(page_content='have into the quality of the spice models of the transistors and all the timing characterization of the\\ndigital libraries and parasitic extraction.\\nQuestion: What films are on the wafer backside?\\nAnswer: As example from a particular technology flow, backside films include a stack of oxide, nitride,\\nTEOS, SION, nitride (the most outer layer). There may be some differences depending on technology\\nand module options. During manufacture, the backside is not necessarily protected from what is grown', metadata={'source': 'C:/Users/Lukas/Desktop/My_Projects/To_Upload/Llama2/llama2_projects/llama2_pdf_chatbot_faiss_windows/data/Hotline_Wiki.pdf', 'page': 22}),\n",
       " Document(page_content='or deposited on the front side (this would be the case, for example, when wafers are loaded for batch\\nprocessing into a tool in a quartz boat), so there is some accumulation of films on the backside. For\\nmany applications, wafers would undergo a backgrind operation to thin total wafer thickness, which\\nalso removes such films.\\nQuestion: What is the crystal orientation of X-FAB\\nwafers?\\nAnswer: The crystal orientation for 8-inch CMOS wafers is: Wafer surface plane : [100] Wafer notch', metadata={'source': 'C:/Users/Lukas/Desktop/My_Projects/To_Upload/Llama2/llama2_projects/llama2_pdf_chatbot_faiss_windows/data/Hotline_Wiki.pdf', 'page': 22}),\n",
       " Document(page_content='direction : [110]\\nQuestion: Why is my design flagged for including the\\nPIMP layer?\\nAnswer: The PIMP layer is not available with the ISL main module. There is a blanket implant where\\nactive is open (DIFF). If PIMP is included in your GDS, a critical (not fatal) error is flagged since PIMP is\\nonly valid for MOS main module flow. For ISL flow, either omit PIMP layer from GDS to prevent the\\nerror, or waive the error.\\nQuestion: Considering rules W1DF and W2DF, what', metadata={'source': 'C:/Users/Lukas/Desktop/My_Projects/To_Upload/Llama2/llama2_projects/llama2_pdf_chatbot_faiss_windows/data/Hotline_Wiki.pdf', 'page': 22}),\n",
       " Document(page_content='Question: Considering rules W1DF and W2DF, what\\nis the risk with narrow DIFF lines?\\nAnswer: One possible risk for narrow DIFF lines is problems with proper silicidation, which may result in\\ndifferent resistances than otherwise expected.', metadata={'source': 'C:/Users/Lukas/Desktop/My_Projects/To_Upload/Llama2/llama2_projects/llama2_pdf_chatbot_faiss_windows/data/Hotline_Wiki.pdf', 'page': 22}),\n",
       " Document(page_content=\"Question: When we try to fix rule W5M1 {Minimum\\nMET1 width joining wide MET1 track (>35 ■} errors,\\nwe sometimes get inexplicable errors.\\nAnswer: This rule is marked in red in the specification, which means it cannot be 100% reliably checked\\nby verification decks. The rule requires sizing operations on layers that can produce artifacts on\\nnon-orthogonal shapes. That's why the rule is unselected by default in the runset. It can be activated\", metadata={'source': 'C:/Users/Lukas/Desktop/My_Projects/To_Upload/Llama2/llama2_projects/llama2_pdf_chatbot_faiss_windows/data/Hotline_Wiki.pdf', 'page': 23}),\n",
       " Document(page_content=\"and it provides some assistance but it is the user's final responsibility to check manually. This is also\\nwhy we don't check the rule at tape in.\\nQuestion: Does X-FAB perform metal fill for xb06?\\nAnswer: Although the xb06 Peripheral Ring diagram available on my X-FAB shows the NOFILLM layer,\\nwe do not normally perform metal fill for XB06. However the rules are in place, and we have done it as\\na special case when requested by a customer. So unless it is requested, there is no need to include the\", metadata={'source': 'C:/Users/Lukas/Desktop/My_Projects/To_Upload/Llama2/llama2_projects/llama2_pdf_chatbot_faiss_windows/data/Hotline_Wiki.pdf', 'page': 23}),\n",
       " Document(page_content=\"NOFILLM layer. The xb06 Cadence PDK has the layer defined: it's specified in the stream layer table,\\nbut the layer palette has the layer set as invalid, so a user would have to change it to valid to be able to\\ndraw with it.\\nQuestion: What is the intent of design rule B1PADM?\\nAnswer: For B1PADM there are several reasons: one was to get similar heights of the pads. With\\ndifferent definition layers, different oxide stacks grow below the pad. For CMOSDEF e.g. there is a\", metadata={'source': 'C:/Users/Lukas/Desktop/My_Projects/To_Upload/Llama2/llama2_projects/llama2_pdf_chatbot_faiss_windows/data/Hotline_Wiki.pdf', 'page': 23}),\n",
       " Document(page_content='thinner oxide is grown, for DMOSDEF a thicker oxide is grown, without CMOSDEF and DMOSDEF an\\neven thicker one is grown. DMOSDEF also forbids several design layers like POLY1 or DIFF in this\\narea.\\nQuestion: What is the intent of design rule B1PATR?\\nAnswer: B1PATR serves to reduce capacitive coupling between the pad metal and the silicon around it.\\nQuestion: What is the intent of design rule B1MD?\\nAnswer: The reason why the MVLT and MERGEDEF was formulated as mutually exclusive into the', metadata={'source': 'C:/Users/Lukas/Desktop/My_Projects/To_Upload/Llama2/llama2_projects/llama2_pdf_chatbot_faiss_windows/data/Hotline_Wiki.pdf', 'page': 23}),\n",
       " Document(page_content='Design Rule Spec at the time when it was originated seems to have been forgotten. There will be no\\nrisk if the TRENCH of devices with MVLT layer are merged as long as the condition of voltage\\ndifference <50V is valid.', metadata={'source': 'C:/Users/Lukas/Desktop/My_Projects/To_Upload/Llama2/llama2_projects/llama2_pdf_chatbot_faiss_windows/data/Hotline_Wiki.pdf', 'page': 23}),\n",
       " Document(page_content='Question: What is the intent of design rule S2TR?\\nAnswer: The S2TR rule was implemented to ensure that floating tubs were always built the same way.\\nIt applies to nested trench rings used in the MUTRIS core for device isolation and its intent was to\\nprevent engineers from placing contacts between these rings because for the isolation in the MUTRIS\\ncore to work properly these silicon tubs must be floating. This requirement is not as strict for the newer', metadata={'source': 'C:/Users/Lukas/Desktop/My_Projects/To_Upload/Llama2/llama2_projects/llama2_pdf_chatbot_faiss_windows/data/Hotline_Wiki.pdf', 'page': 24}),\n",
       " Document(page_content='SITRUS core but the rule has been left in the process because of the number of older designs using the\\nMUTRIS core.\\nQuestion: The SPICE model libraries include *_bjt\\nmodels for some MOS devices. What are they for?\\nAnswer: The purpose of the added PNP bipolars to the *_bjt models is to show that there can occur\\nbipolar effects under certain conditions, but it is by far not very accurate and it has limitations. It is', metadata={'source': 'C:/Users/Lukas/Desktop/My_Projects/To_Upload/Llama2/llama2_projects/llama2_pdf_chatbot_faiss_windows/data/Hotline_Wiki.pdf', 'page': 24}),\n",
       " Document(page_content='nevertheless extracted on silicon at different geometries and good simulation accuracy can be\\nexpected when the HVMOS channel is completely switched off and only the drain/bulk junction is\\nforward-biased. But in other cases, the accuracy is limited: especially when the channel is in inversion\\nand/or the bulk/substrate junction is forward-biased. Both conditions change the minority carrier\\ndistribution in the bulk/base a lot and lead to a change in the beta. There is no statistical process', metadata={'source': 'C:/Users/Lukas/Desktop/My_Projects/To_Upload/Llama2/llama2_projects/llama2_pdf_chatbot_faiss_windows/data/Hotline_Wiki.pdf', 'page': 24}),\n",
       " Document(page_content='monitoring for these parasitic BJTs. In our experience the most reliable results and complete picture in\\nsimulation can be achieved with the substrate extractor tool, which is supported for xh018. See\\nhttps://my.xfab.com/search/_action/relation/c7d55cc4-78d6-4d22-bdfa-897b19a3c8d4/\\nQuestion: The NVRAM datasheet indicates 1.8V and\\n3.3V supplies are required. Are they both needed for\\nnormal operation, or just for programming?', metadata={'source': 'C:/Users/Lukas/Desktop/My_Projects/To_Upload/Llama2/llama2_projects/llama2_pdf_chatbot_faiss_windows/data/Hotline_Wiki.pdf', 'page': 24}),\n",
       " Document(page_content='normal operation, or just for programming?\\nAnswer: STORE / RECALL operations require 1.8V and 3.3V; READ / WRITE of the SRAM requires\\nonly 1.8V. The 3.3V is only necessary (in addition to 1.8V) during STORE (the programming of the\\nnon-volatile part) and during RECALL (the cycle for bring back the information to the SRAM). For read /\\nwrite of the SRAM only the 1.8V supply is needed.\\nQuestion: Some MOS devices have butted NDIFF and\\nPDIFF regions with only a single contact. How', metadata={'source': 'C:/Users/Lukas/Desktop/My_Projects/To_Upload/Llama2/llama2_projects/llama2_pdf_chatbot_faiss_windows/data/Hotline_Wiki.pdf', 'page': 24}),\n",
       " Document(page_content='PDIFF regions with only a single contact. How\\nshould the connection be understood?', metadata={'source': 'C:/Users/Lukas/Desktop/My_Projects/To_Upload/Llama2/llama2_projects/llama2_pdf_chatbot_faiss_windows/data/Hotline_Wiki.pdf', 'page': 24}),\n",
       " Document(page_content='Answer: The NDIFF and PDIFF can be butted and a single CONT used to connect to the butted nodes\\nbecause all the DIFF is covered with a silicide layer which shorts together the NDIFF and PDIFF, the\\nCONT makes connection to the silicide layer.\"\\nQuestion: Please clarify the use of the HRPOLY and\\nLRPOLY modules.\\nAnswer: The primitive devices in the HRPOLY module are already included in the MOSLL or MOSLT', metadata={'source': 'C:/Users/Lukas/Desktop/My_Projects/To_Upload/Llama2/llama2_projects/llama2_pdf_chatbot_faiss_windows/data/Hotline_Wiki.pdf', 'page': 25}),\n",
       " Document(page_content='main modules flow. Similarly, the primitives in the LRPOLY module are already included in the MOS or\\nMOS5 main modules. The resistors rpp1 and rnp1 have the HRES as a design layer. This layer is\\nincluded on the primitive device in the PRIMLIB. For MOS/MOS5 process flows, the HRES design layer\\nis used to generate the UGM mask. For the MOSLL/MOSLT flows the HRES design layer is not used.\\nThe resistors rp1 and rsp1 have the LRES as a design layer. This layer is included on the primitive', metadata={'source': 'C:/Users/Lukas/Desktop/My_Projects/To_Upload/Llama2/llama2_projects/llama2_pdf_chatbot_faiss_windows/data/Hotline_Wiki.pdf', 'page': 25}),\n",
       " Document(page_content='device in the PRIMLIB. For MOSLL/MOSLT flows, the LRES design layer is used to generate the NGM\\nmask. For the MOS/MOS5 flows the LRES design layer is not used. The Design Rule Specification\\nincludes these comments in the design layer table: LRES Required for device recognition. Also used for\\nmask generation when MOSLL or MOSLT modules are selected. LRES under MOS flow IS USED for\\nmask generation with the XRPOLY module. See the dpol device rules. HRES Required for device', metadata={'source': 'C:/Users/Lukas/Desktop/My_Projects/To_Upload/Llama2/llama2_projects/llama2_pdf_chatbot_faiss_windows/data/Hotline_Wiki.pdf', 'page': 25}),\n",
       " Document(page_content=\"recognition. Also used for mask generation when MOS or MOS5 modules are selected. Please leave\\nthe HRES design layer on the resistors.\\nQuestion: What is the difference between the types\\nof body tied transistors?\\nAnswer: There are two types of transistors available in the XI10 process, the H and A types. The A type\\ntransistors use the 'castellated' source/body structure; they have the advantage that they can be made\", metadata={'source': 'C:/Users/Lukas/Desktop/My_Projects/To_Upload/Llama2/llama2_projects/llama2_pdf_chatbot_faiss_windows/data/Hotline_Wiki.pdf', 'page': 25}),\n",
       " Document(page_content='whatever width the customer wants because the body contact is distributed along the source width.\\nHowever, they have the disadvantage that the N+ and P+ diffusions for the source and body are\\ntouching, so there will be biasing limitations for these terminals. The xi10 S/D is not silicided, so at least\\nthere is no direct short between the source and body in these transistors, but with the N+/P+ abutment,', metadata={'source': 'C:/Users/Lukas/Desktop/My_Projects/To_Upload/Llama2/llama2_projects/llama2_pdf_chatbot_faiss_windows/data/Hotline_Wiki.pdf', 'page': 25}),\n",
       " Document(page_content=\"trying to apply different voltages to the source and body will likely result in either high leakage between\\nthe two terminals or outright breakdown as this structure is effectively a surface Zener diode. The H\\ntype transistors place the body contacts of the transistors at the ends of the channel and separate the\\nP+ and N+ diffusions by a cross connection of poly to the gate (the designation 'H' transistors comes\", metadata={'source': 'C:/Users/Lukas/Desktop/My_Projects/To_Upload/Llama2/llama2_projects/llama2_pdf_chatbot_faiss_windows/data/Hotline_Wiki.pdf', 'page': 25}),\n",
       " Document(page_content='from the resulting shape of the poly gate). The advantage of these devices is that with the diffusions\\nseparated no parasitic Zener diode is formed, so leakage and breakdown between the source and body\\nwill not be an issue. The disadvantage of these devices is that due to body resistance perpendicular to\\nthe channel, the ratio of W/L is limited for the devices to 6 for the nmos and 12 for the pmos devices.\\nQuestion: How should the poly ring of diodes be\\nbiased?', metadata={'source': 'C:/Users/Lukas/Desktop/My_Projects/To_Upload/Llama2/llama2_projects/llama2_pdf_chatbot_faiss_windows/data/Hotline_Wiki.pdf', 'page': 25}),\n",
       " Document(page_content=\"Answer: Due to its lateral construction, the diode is different from pure bulk junction diodes in other\\nprocesses. You might review the Device Characteristics Documentation (you can either download the\\npackage or browse online by clicking the globe icon) to see how the poly ring potential influences the\\ncurrent. https://my.xfab.com/search/_action/relation/96b7577d-f3b9-40e3-b81f-27cee2e35705/ The 'dn'\", metadata={'source': 'C:/Users/Lukas/Desktop/My_Projects/To_Upload/Llama2/llama2_projects/llama2_pdf_chatbot_faiss_windows/data/Hotline_Wiki.pdf', 'page': 26}),\n",
       " Document(page_content=\"model is a subckt model consisting of level1 diode models with different ideality factors. In this model\\nthe different diodes are used to model the current forward/reverse over temperature. With respect to\\nthe diode current the process variation is solely covered by changing the 'is' parameter in the model\\nand the ideality factor is unchanged. Usually the diode current consists of an ideal and a non-ideal part\", metadata={'source': 'C:/Users/Lukas/Desktop/My_Projects/To_Upload/Llama2/llama2_projects/llama2_pdf_chatbot_faiss_windows/data/Hotline_Wiki.pdf', 'page': 26}),\n",
       " Document(page_content='and the ratio of both can change with process variation (the non-ideal part is fluctuating, while the ideal\\npart is very stable). Changing the ideality factor in the model would lead to a large deviation of the\\ncurrent over temperature, which we do not observe, but we only have limited data from a statistical\\npoint of view (only lab measurements over T). It is safer to avoid using this device for high precision', metadata={'source': 'C:/Users/Lukas/Desktop/My_Projects/To_Upload/Llama2/llama2_projects/llama2_pdf_chatbot_faiss_windows/data/Hotline_Wiki.pdf', 'page': 26}),\n",
       " Document(page_content='applications like bandgaps because the forward voltage variation is not measured by PCM test and\\ntherefore also the corner models will not be as accurate as needed for this purpose.\\nQuestion: What is the handle wafer contact\\nresistance?\\nAnswer: It is in the 10 kOhm range. We do not specify a value because it cannot be measured easily,\\ne.g. from one HW contact to another the handle wafer resistance is in-between, from top to bottom is', metadata={'source': 'C:/Users/Lukas/Desktop/My_Projects/To_Upload/Llama2/llama2_projects/llama2_pdf_chatbot_faiss_windows/data/Hotline_Wiki.pdf', 'page': 26}),\n",
       " Document(page_content=\"the thickness of the handle wafer (and if not back-lapped the oxide on bottom also). A similar issue\\nexists for XT06; however a contact 'resistance' is specified in the Process Spec., but indeed much of\\nthe resistance comes from handle wafer (undoped) resistance, not the contact itself.\\nQuestion: How should I connect the 'wh' handle\\nwafer pin?\\nAnswer: The 'wh' handle wafer pin represents the connection of the back handle of the wafer situated\", metadata={'source': 'C:/Users/Lukas/Desktop/My_Projects/To_Upload/Llama2/llama2_projects/llama2_pdf_chatbot_faiss_windows/data/Hotline_Wiki.pdf', 'page': 26}),\n",
       " Document(page_content=\"just below the BOX and allows the connection of a substrate model to the device. A local artificial\\nsubstrate under the below devices is recognized as their 'wh' terminal: RF MOS : diffusion area\\nenclosing source/drain regions Front-End Resistors : body of the devices Capacitors : bounding box of\\nthe device Varactors : diffusion area The 'wh' terminal connection for RF MOS, Front-End Resistors\", metadata={'source': 'C:/Users/Lukas/Desktop/My_Projects/To_Upload/Llama2/llama2_projects/llama2_pdf_chatbot_faiss_windows/data/Hotline_Wiki.pdf', 'page': 26}),\n",
       " Document(page_content='(Poly1 and Diffusion type), capacitors and varactors - Leave it floating - Connect it to a noConn device\\n(to avoid warnings after \\'Check and Save\") - Connect it to lsubmod device The \\'wh\\' pin for all other\\ndevices (DC MOS, inductors and metal resistors) are merged together during LVS/PEX to a single\\nsubstrate node which equals the wafer back side connection the \\'wh\\' terminal of these devices must be', metadata={'source': 'C:/Users/Lukas/Desktop/My_Projects/To_Upload/Llama2/llama2_projects/llama2_pdf_chatbot_faiss_windows/data/Hotline_Wiki.pdf', 'page': 26}),\n",
       " Document(page_content=\"tied together in the schematic a label with the name of this common node must be placed anywhere in\\nthe layout cell view. The label must be drawn using the LPP Wafer_txt:drawing. Merging 'wh' pins in the\\nlayout view E.g required when using of multiplier 'm' device parameter for the devices with internal\\nvertical substrate model or When using ser/par of resistors e.g. series resistors The\\nMarksub:Commonsub (33:33) has to be drawn around the concerned devices in order to represent\", metadata={'source': 'C:/Users/Lukas/Desktop/My_Projects/To_Upload/Llama2/llama2_projects/llama2_pdf_chatbot_faiss_windows/data/Hotline_Wiki.pdf', 'page': 26}),\n",
       " Document(page_content=\"their common wafer handle terminal. Concerning the third pin of the MIMCAP, the 'wh' pin (pin below\\nthe BOX) could be ignored. This is for simulating the lateral substrate model. There is no issue in\\nignoring it concerning LVS.\", metadata={'source': 'C:/Users/Lukas/Desktop/My_Projects/To_Upload/Llama2/llama2_projects/llama2_pdf_chatbot_faiss_windows/data/Hotline_Wiki.pdf', 'page': 26}),\n",
       " Document(page_content='Question: Why do I get nwell and pwell width errors\\nfor my pe5 devices? Relevant rules may include\\nW1W1, W1W2, W1W3, W1W4, E1MVDF.\\nAnswer: Such errors should be corrected. NWELL drawn outside MV will be NWELL1, NWELL inside\\nMV will be NWELL2. With NWELL crossing MV, the sliver outside MV is NWELL1. All NWELL\\nassociated with the pe5 must be enclosed by MV. For the pe5 devices, the MV layer extends 0.6um\\nbeyond the NWELL. This seemingly large MV enclosure of NWELL is due to the fact that the space', metadata={'source': 'C:/Users/Lukas/Desktop/My_Projects/To_Upload/Llama2/llama2_projects/llama2_pdf_chatbot_faiss_windows/data/Hotline_Wiki.pdf', 'page': 27}),\n",
       " Document(page_content=\"between MV and the nwell will be PWELL2, for which rule W1W4 dictates a 0.6um minimum width.\\nQuestion: Please explain the HW terminal on some\\ndevices.\\nAnswer: Several transistors (e.g. nhvta, nhvtb, nhvu, ndhvt, ndhvta, phvta, phvtb and phvu) need a\\nhandle wafer connection for simulation. The fifth terminal 'HW' of these transistors is used for this. It is\\nnecessary to connect this terminal in schematic and layout. LVS checks this connection. The\", metadata={'source': 'C:/Users/Lukas/Desktop/My_Projects/To_Upload/Llama2/llama2_projects/llama2_pdf_chatbot_faiss_windows/data/Hotline_Wiki.pdf', 'page': 27}),\n",
       " Document(page_content='connection of the handle wafer can be realized by a top side or a back side connection. In case of top\\nside connection the HWC module is to be used. If the back side application is used or in case of the\\ntransistors nhvta, nhvtb, nhvu, ndhvt, ndhvta, phvta, phvtb and phvu, an auxiliary handle wafer contact\\nis necessary in the layout view. The auxiliary handle wafer contact is only used for LVS and simulation,', metadata={'source': 'C:/Users/Lukas/Desktop/My_Projects/To_Upload/Llama2/llama2_projects/llama2_pdf_chatbot_faiss_windows/data/Hotline_Wiki.pdf', 'page': 27}),\n",
       " Document(page_content=\"no mask will be created. The xt018-ApplicationNote-Layout_Techniques document explains how to\\ncreate an auxiliary handle wafer contact in layout.\\nQuestion: With what potential should the handle\\nwafer (HW) be biased?\\nAnswer: Please see section 2.5 in the xt018 layout techniques application note. The xt018 Process &\\nDevice Specification provides operating limits for each device with respect to the HW.\\nQuestion: Why doesn't the xt018 HV_CELLS library\\nautomatically load?\", metadata={'source': 'C:/Users/Lukas/Desktop/My_Projects/To_Upload/Llama2/llama2_projects/llama2_pdf_chatbot_faiss_windows/data/Hotline_Wiki.pdf', 'page': 27}),\n",
       " Document(page_content='automatically load?\\nAnswer: The module requirements can differ depending on the selected cell -- this applies mainly to the\\n1.8V cells as they are not compatible with the MOS5 core module. In the Cadence PDK environment,\\nwhether an X-FAB library is available for a particular PDK startup option is controlled by the\\npdk_code.txt file within the library. The file currently in the library only specifies options with the', metadata={'source': 'C:/Users/Lukas/Desktop/My_Projects/To_Upload/Llama2/llama2_projects/llama2_pdf_chatbot_faiss_windows/data/Hotline_Wiki.pdf', 'page': 27}),\n",
       " Document(page_content=\"LP5MOS main module. However, the library can also be used with the MOS5 main module (except the\\n1.8V cells, as already noted). The pdk_code.txt file can be amended as below to include MOS5, which\\nspecifies the compatible options. Change the file in your installed library at (the exact path depends on\\nthe library version) $X_DIR/xt018/esdlibs/HV_CELLS/v1_2/cadence_IC61/v1_2_0/HV_CELLS/ with the\\ncontent below. It's important that when selecting any cell, you ensure that its module requirements are\", metadata={'source': 'C:/Users/Lukas/Desktop/My_Projects/To_Upload/Llama2/llama2_projects/llama2_pdf_chatbot_faiss_windows/data/Hotline_Wiki.pdf', 'page': 28}),\n",
       " Document(page_content='consistent with those of your design. # Do not edit this file! # File keeps xkit start up information #\\nHV_CELLS v1_2_0 # MOS5 options added PDK_CODE xt018_1231_LP5MOS_MET3_METMID\\nPDK_CODE xt018_1232_LP5MOS_MET3_METTHK PDK_CODE\\nxt018_1233_LP5MOS_MET3_METMID_METTHK PDK_CODE\\nxt018_1241_LP5MOS_MET3_MET4_METMID PDK_CODE\\nxt018_1242_LP5MOS_MET3_MET4_METTHK PDK_CODE\\nxt018_1243_LP5MOS_MET3_MET4_METMID_METTHK PDK_CODE\\nxt018_1251_LP5MOS_MET3_MET4_MET5_METMID PDK_CODE', metadata={'source': 'C:/Users/Lukas/Desktop/My_Projects/To_Upload/Llama2/llama2_projects/llama2_pdf_chatbot_faiss_windows/data/Hotline_Wiki.pdf', 'page': 28}),\n",
       " Document(page_content='xt018_1251_LP5MOS_MET3_MET4_MET5_METMID PDK_CODE\\nxt018_1252_LP5MOS_MET3_MET4_MET5_METTHK PDK_CODE\\nxt018_5031_MOS5_MET3_METMID PDK_CODE xt018_5032_MOS5_MET3_METTHK PDK_CODE\\nxt018_5033_MOS5_MET3_METMID_METTHK PDK_CODE\\nxt018_5041_MOS5_MET3_MET4_METMID PDK_CODE xt018_5042_MOS5_MET3_MET4_METTHK\\nPDK_CODE xt018_5043_MOS5_MET3_MET4_METMID_METTHK PDK_CODE\\nxt018_5051_MOS5_MET3_MET4_MET5_METMID PDK_CODE\\nxt018_5052_MOS5_MET3_MET4_MET5_METTHK\\nQuestion: How does the pe5ti device differ from the\\npe5?', metadata={'source': 'C:/Users/Lukas/Desktop/My_Projects/To_Upload/Llama2/llama2_projects/llama2_pdf_chatbot_faiss_windows/data/Hotline_Wiki.pdf', 'page': 28}),\n",
       " Document(page_content='pe5?\\nAnswer: The xt018 pe5ti is a trench-isolated pe5 without a PTUB below it. The peti and pe5ti devices\\nwere generated in response to a request for a pe or pe5 device that did not need a p-well contact as\\nthis would take up more room. We came up with the peti and pe5ti devices specifically for this reason.\\nThese devices are standard pe or pe5 transistors but with HVNWELL used below the N-well which\\nconverts the entire tub to N-type.\\nQuestion: Why is rm1 metal resistor breakdown so', metadata={'source': 'C:/Users/Lukas/Desktop/My_Projects/To_Upload/Llama2/llama2_projects/llama2_pdf_chatbot_faiss_windows/data/Hotline_Wiki.pdf', 'page': 28}),\n",
       " Document(page_content='Question: Why is rm1 metal resistor breakdown so\\nmuch lower than that of higher level metal resistors?\\nAnswer: This is related to the ILD/IMD voltage rating, for MET2 there is much thicker oxide than for\\nMET1. There is design rule S1M1DF, but this would require a DTI between the MET1 and DIFF\\ngeometry in question. If there are no active devices below rm1, the device could be placed over floating\\nISOTUB(s).\\nQuestion: After upgrading to version 12 PDK, why do', metadata={'source': 'C:/Users/Lukas/Desktop/My_Projects/To_Upload/Llama2/llama2_projects/llama2_pdf_chatbot_faiss_windows/data/Hotline_Wiki.pdf', 'page': 28}),\n",
       " Document(page_content='rpp1 instances of existing design show different\\nparameter values and get flagged with DRC error', metadata={'source': 'C:/Users/Lukas/Desktop/My_Projects/To_Upload/Llama2/llama2_projects/llama2_pdf_chatbot_faiss_windows/data/Hotline_Wiki.pdf', 'page': 28}),\n",
       " Document(page_content='B7P1?\\nAnswer: This is due to the underlying well options. The background here is that we found a bimodal\\ndistribution of rpp1 sheet resistance with NWELL below, depending on whether LP5MOS or MOS5 core\\nmodule was used. To address this, we now offer two rpp1_3 resistor types: the rpp1_3 and a\\nrpp1nw_3. The rpp1_3 has a new higher sheet resistance than before while the rpp1nw_3 has the\\nsame sheet resistance as the version 11 rpp1_3. This explains why, using rpp1_3, you get a different', metadata={'source': 'C:/Users/Lukas/Desktop/My_Projects/To_Upload/Llama2/llama2_projects/llama2_pdf_chatbot_faiss_windows/data/Hotline_Wiki.pdf', 'page': 29}),\n",
       " Document(page_content='length for the same resistance in v12 PDK. You could use the new device rpp1nw_3 instead of rpp1_3\\nto get a better match to the old v11 and avoid the B7P1 error. Alternatively, you could leave your layout\\nas-is and waive the B7P1 error as it is not fatal, but then if the design is re-used in a different core\\nmodule later, you may see a different performance.\\nQuestion: What is the relation of the FIMP mask to\\ndrawn layers?', metadata={'source': 'C:/Users/Lukas/Desktop/My_Projects/To_Upload/Llama2/llama2_projects/llama2_pdf_chatbot_faiss_windows/data/Hotline_Wiki.pdf', 'page': 29}),\n",
       " Document(page_content='drawn layers?\\nAnswer: The xt06 FIMP mask defines where the field implant is not implanted. It is not intuitive that the\\nNOFIMP layer is the direct design entry for the FIMP mask. Having in mind the FIMP mask is meant for\\nblocking the global FIMP implant in the process makes it easier to understand.\\nQuestion: For wafers held at Poly, at what step are\\nthe wafers actually held?\\nAnswer: For a request to hold at Poly, we will hold it at Active (ACT/DIFF) layer instead. For the 0.18µm', metadata={'source': 'C:/Users/Lukas/Desktop/My_Projects/To_Upload/Llama2/llama2_projects/llama2_pdf_chatbot_faiss_windows/data/Hotline_Wiki.pdf', 'page': 29}),\n",
       " Document(page_content='technologies, ACT and POLY1 dummies are required and both dummies are interlinked. Therefore, any\\nPOLY1 redesign may affect the ACT layer and may result in a new ACT mask. If the wafers that have\\nbeen on hold at Poly had already processed with the old ACT mask, clearly the new ACT mask cannot\\nbe used for these wafers. So to avoid this from happening, we suggest to hold the wafers at the Active\\nlayer. However, if you can confirm that your future redesign will not change the ACT mask, we can', metadata={'source': 'C:/Users/Lukas/Desktop/My_Projects/To_Upload/Llama2/llama2_projects/llama2_pdf_chatbot_faiss_windows/data/Hotline_Wiki.pdf', 'page': 29}),\n",
       " Document(page_content='support your request to hold the wafers at Poly.\\nQuestion: What helps are available for resolving MIM\\ncapacitor antenna errors?\\nAnswer: The MIM-capacitor antenna rules are defined in the\\n0.18um-ProcessSpecification-DR_MIM_Antenna_Rules document. Advice for preventing and resolving\\nsuch errors can be found in the 0.18um-ApplicationNote-MIM_Capacitors_Check document.\\nhttps://my.xfab.com/search/_action/relation/0d92400d-b4de-48f3-9bb8-38e7aaf134b9/ Supplemental', metadata={'source': 'C:/Users/Lukas/Desktop/My_Projects/To_Upload/Llama2/llama2_projects/llama2_pdf_chatbot_faiss_windows/data/Hotline_Wiki.pdf', 'page': 29}),\n",
       " Document(page_content=\"'MIMANT' DRC runsets for checking these antenna rules are available for PVS, Calibre, and IC\\nValidator. https://my.xfab.com/search/_action/relation/491ae11f-379c-4a5e-b2b0-8445c79c830d/\\nhttps://my.xfab.com/search/_action/relation/557ba3a2-ee77-4034-8518-5917dac84d4d/\", metadata={'source': 'C:/Users/Lukas/Desktop/My_Projects/To_Upload/Llama2/llama2_projects/llama2_pdf_chatbot_faiss_windows/data/Hotline_Wiki.pdf', 'page': 29}),\n",
       " Document(page_content='https://my.xfab.com/search/_action/relation/de9558d0-b114-4f5f-bf3f-d8c7ab2562d3/', metadata={'source': 'C:/Users/Lukas/Desktop/My_Projects/To_Upload/Llama2/llama2_projects/llama2_pdf_chatbot_faiss_windows/data/Hotline_Wiki.pdf', 'page': 30})]"
      ]
     },
     "execution_count": 5,
     "metadata": {},
     "output_type": "execute_result"
    }
   ],
   "source": [
    "chunks = text_splitter.split_documents(data)\n",
    "chunks"
   ]
  },
  {
   "cell_type": "code",
   "execution_count": 6,
   "metadata": {},
   "outputs": [
    {
     "data": {
      "text/plain": [
       "192"
      ]
     },
     "execution_count": 6,
     "metadata": {},
     "output_type": "execute_result"
    }
   ],
   "source": [
    "len(chunks)"
   ]
  },
  {
   "cell_type": "markdown",
   "metadata": {},
   "source": [
    "## Download Embedding"
   ]
  },
  {
   "cell_type": "code",
   "execution_count": 7,
   "metadata": {},
   "outputs": [],
   "source": [
    "embeddings = HuggingFaceEmbeddings(model_name='sentence-transformers/all-MiniLM-L6-v2',\n",
    "                                       model_kwargs={'device': 'cpu'})"
   ]
  },
  {
   "cell_type": "code",
   "execution_count": 8,
   "metadata": {},
   "outputs": [],
   "source": [
    "# We want to compute the embeddings on our document, there is many options available for vector stores. \n",
    "# In this case, we'll use FAISS\n",
    "# FAISS will take the text chunks, find corresponding embedding and that will be store in the document search\n",
    "docsearch = FAISS.from_documents(chunks, embeddings)"
   ]
  },
  {
   "cell_type": "markdown",
   "metadata": {},
   "source": [
    "## Similarity Search"
   ]
  },
  {
   "cell_type": "code",
   "execution_count": 1,
   "metadata": {},
   "outputs": [
    {
     "ename": "NameError",
     "evalue": "name 'docsearch' is not defined",
     "output_type": "error",
     "traceback": [
      "\u001b[1;31m---------------------------------------------------------------------------\u001b[0m",
      "\u001b[1;31mNameError\u001b[0m                                 Traceback (most recent call last)",
      "Cell \u001b[1;32mIn[1], line 2\u001b[0m\n\u001b[0;32m      1\u001b[0m query \u001b[39m=\u001b[39m \u001b[39m\"\u001b[39m\u001b[39mwhere i can find fatal violations list ?\u001b[39m\u001b[39m\"\u001b[39m\n\u001b[1;32m----> 2\u001b[0m docs \u001b[39m=\u001b[39m docsearch\u001b[39m.\u001b[39msimilarity_search(query, k\u001b[39m=\u001b[39m\u001b[39m1\u001b[39m)\n\u001b[0;32m      3\u001b[0m docs\n",
      "\u001b[1;31mNameError\u001b[0m: name 'docsearch' is not defined"
     ]
    }
   ],
   "source": [
    "query = \"where i can find fatal violations list ?\"\n",
    "docs = docsearch.similarity_search(query, k=1)\n",
    "docs\n"
   ]
  },
  {
   "cell_type": "code",
   "execution_count": 10,
   "metadata": {},
   "outputs": [
    {
     "data": {
      "text/plain": [
       "[Document(page_content=\"setting parameters in a header file. Using the PVS LVS GUI may be easier for most users to extract a\\nlist of the primitive devices used in a given layout. 1. Open layout (read-only is OK) 2. PVS -> Run LVS\\n3. Input -> exclude comparison setup 4. Output -> LVS Report -> Click 'SET' button. 5. Apply/Submit to\\ninitiate the run. Results: Files/Output Files: Extraction report -> scroll to bottom of report. Or in the\", metadata={'source': 'C:/Users/Lukas/Desktop/My_Projects/To_Upload/Llama2/llama2_projects/llama2_pdf_chatbot_faiss_windows/data/Hotline_Wiki.pdf', 'page': 20}),\n",
       " Document(page_content=\"for information only. There have been cases in some of our technologies where a primitive device may\\nbe superseded by an improved version, or conceivably some issue under certain operating conditions\\nof a device may have been identified -- in such cases, our Customer Projects department would use the\\nPDL to check if such devices are used in a customer's design and make sure the customer is aware of\", metadata={'source': 'C:/Users/Lukas/Desktop/My_Projects/To_Upload/Llama2/llama2_projects/llama2_pdf_chatbot_faiss_windows/data/Hotline_Wiki.pdf', 'page': 8}),\n",
       " Document(page_content='commands addFiller, deleteFiller for details.\"\\nQuestion: What is the PDL.txt file included with my\\nresults from the fab\\'s DRC run?\\nAnswer: The PDL (primitive device list) file is the result of a special LVS run that only extracts the\\nprimitive devices (including parasitic devices) present in your layout. The parasitic devices included\\n(p_*) would generally be diodes that are part of the structure of high voltage or isolated transistors. The', metadata={'source': 'C:/Users/Lukas/Desktop/My_Projects/To_Upload/Llama2/llama2_projects/llama2_pdf_chatbot_faiss_windows/data/Hotline_Wiki.pdf', 'page': 20}),\n",
       " Document(page_content=\"devices' (within your PDK setup, the first option will offer all devices in the selected module, second\\noption will offer only the selected devices) and then choose the desired process modules. Click OK.\\nClick the download icon next to the search box near the top right of the page. You can further refine the\\ncustom setup by unselecting primitive devices of the specified modules if for some reason you want to\", metadata={'source': 'C:/Users/Lukas/Desktop/My_Projects/To_Upload/Llama2/llama2_projects/llama2_pdf_chatbot_faiss_windows/data/Hotline_Wiki.pdf', 'page': 4})]"
      ]
     },
     "execution_count": 10,
     "metadata": {},
     "output_type": "execute_result"
    }
   ],
   "source": [
    "docs = docsearch.similarity_search(query)\n",
    "docs"
   ]
  },
  {
   "cell_type": "markdown",
   "metadata": {},
   "source": [
    "## Query the Docs to get answer back using Llama 2 "
   ]
  },
  {
   "cell_type": "code",
   "execution_count": 11,
   "metadata": {},
   "outputs": [],
   "source": [
    "MODEL_PATH = r\"D:/llama2_quantized_models/7B_chat/llama-2-7b-chat.ggmlv3.q5_K_M.bin\""
   ]
  },
  {
   "cell_type": "code",
   "execution_count": 12,
   "metadata": {},
   "outputs": [],
   "source": [
    "from langchain.callbacks.streaming_stdout import StreamingStdOutCallbackHandler\n",
    "from langchain.callbacks.manager import CallbackManager\n",
    "from langchain.llms import LlamaCpp\n",
    "from langchain.chains.question_answering import load_qa_chain\n",
    "\n",
    "# Use CUDA GPU\n",
    "callback_manager = CallbackManager([StreamingStdOutCallbackHandler()])\n",
    "llm = LlamaCpp(\n",
    "    model_path= MODEL_PATH,\n",
    "    max_tokens=256,\n",
    "    n_gpu_layers=35,\n",
    "    n_batch= 512, #256,\n",
    "    callback_manager=callback_manager,\n",
    "    n_ctx= 1024,\n",
    "    verbose=False,\n",
    "    temperature=0.2,\n",
    ")"
   ]
  },
  {
   "cell_type": "code",
   "execution_count": 13,
   "metadata": {},
   "outputs": [
    {
     "name": "stdout",
     "output_type": "stream",
     "text": [
      " To generate a PDL (primitive device list) file, you need to run LVS with specific command line options. The most common way is to use the PVS LVS GUI and follow these steps:\n",
      "1. Open layout (read-only is OK).\n",
      "2. PVS -> Run LVS.\n",
      "3. Input -> Exclude comparison setup.\n",
      "4. Output -> LVS Report -> Click 'SET' button.\n",
      "5. Apply/Submit to initiate the run.\n",
      "The resulting PDL file will contain a list of all primitive devices (including parasitic devices) used in your layout, along with their names and types."
     ]
    },
    {
     "data": {
      "text/plain": [
       "\" To generate a PDL (primitive device list) file, you need to run LVS with specific command line options. The most common way is to use the PVS LVS GUI and follow these steps:\\n1. Open layout (read-only is OK).\\n2. PVS -> Run LVS.\\n3. Input -> Exclude comparison setup.\\n4. Output -> LVS Report -> Click 'SET' button.\\n5. Apply/Submit to initiate the run.\\nThe resulting PDL file will contain a list of all primitive devices (including parasitic devices) used in your layout, along with their names and types.\""
      ]
     },
     "execution_count": 13,
     "metadata": {},
     "output_type": "execute_result"
    }
   ],
   "source": [
    "chain = load_qa_chain(llm, chain_type=\"stuff\")\n",
    "chain.run(input_documents=docs, question=query)"
   ]
  },
  {
   "cell_type": "markdown",
   "metadata": {},
   "source": []
  }
 ],
 "metadata": {
  "kernelspec": {
   "display_name": "LLAMA",
   "language": "python",
   "name": "python3"
  },
  "language_info": {
   "codemirror_mode": {
    "name": "ipython",
    "version": 3
   },
   "file_extension": ".py",
   "mimetype": "text/x-python",
   "name": "python",
   "nbconvert_exporter": "python",
   "pygments_lexer": "ipython3",
   "version": "3.11.4"
  },
  "orig_nbformat": 4
 },
 "nbformat": 4,
 "nbformat_minor": 2
}
