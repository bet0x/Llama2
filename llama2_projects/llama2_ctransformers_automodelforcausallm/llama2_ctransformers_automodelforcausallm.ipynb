{
 "cells": [
  {
   "cell_type": "markdown",
   "metadata": {},
   "source": [
    "# Getting started\n",
    "\n",
    "Install following libraries\n",
    "```\n",
    "For CPU\n",
    "!pip install ctransformers -q \n",
    "\n",
    "For GPU\n",
    "!pip install ctransformers[cuda]\n",
    "\n",
    "```"
   ]
  },
  {
   "cell_type": "code",
   "execution_count": 6,
   "metadata": {},
   "outputs": [
    {
     "data": {
      "application/vnd.jupyter.widget-view+json": {
       "model_id": "17e391dfed224381913f1c469c023311",
       "version_major": 2,
       "version_minor": 0
      },
      "text/plain": [
       "Fetching 1 files:   0%|          | 0/1 [00:00<?, ?it/s]"
      ]
     },
     "metadata": {},
     "output_type": "display_data"
    },
    {
     "data": {
      "application/vnd.jupyter.widget-view+json": {
       "model_id": "1607f944dba14fe69c1f45d109d4c800",
       "version_major": 2,
       "version_minor": 0
      },
      "text/plain": [
       "Fetching 0 files: 0it [00:00, ?it/s]"
      ]
     },
     "metadata": {},
     "output_type": "display_data"
    }
   ],
   "source": [
    "from ctransformers import AutoModelForCausalLM\n",
    "model = r\"D:/llama2_quantized_models/7B_chat/llama-2-7b-chat.ggmlv3.q5_K_M.bin\"\n",
    "\n",
    "#Run with CPU\n",
    "#llm = AutoModelForCausalLM.from_pretrained('TheBloke/Llama-2-7B-Chat-GGML', model_file=model)\n",
    "\n",
    "# Run with GPU\n",
    "llm = AutoModelForCausalLM.from_pretrained('TheBloke/Llama-2-7B-Chat-GGML', model_file=model, gpu_layers=35)"
   ]
  },
  {
   "cell_type": "code",
   "execution_count": 9,
   "metadata": {},
   "outputs": [
    {
     "name": "stdout",
     "output_type": "stream",
     "text": [
      "\n",
      "\n",
      "Llama is a popular open-source machine learning library that provides a wide range of algorithms and tools for building, training, and deploying machine learning models. The latest version of Llama, Llama 2, was released in March 2022. There has been no official announcement from the Llama team regarding the release date of Llama 3.\n",
      "\n",
      "However, the Llama team is actively working on improving and expanding the library, and new features and improvements are being added regularly. You can keep track of the latest developments and updates in the Llama community by following the official Llama GitHub repository or subscribing to the Llama newsletter.\n",
      "\n",
      "In summary, while there is no official release date for Llama 3, the Llama team is actively working on the library, and new features and improvements are being added regularly. You can stay up-to-date with the latest developments by following the official Llama GitHub repository or subscribing to the Llama newsletter."
     ]
    }
   ],
   "source": [
    "for word in llm(\"When is llama 3 model come out ?\", stream=True):\n",
    "    print(word, end='')"
   ]
  },
  {
   "cell_type": "markdown",
   "metadata": {},
   "source": []
  }
 ],
 "metadata": {
  "kernelspec": {
   "display_name": "LLAMA",
   "language": "python",
   "name": "python3"
  },
  "language_info": {
   "codemirror_mode": {
    "name": "ipython",
    "version": 3
   },
   "file_extension": ".py",
   "mimetype": "text/x-python",
   "name": "python",
   "nbconvert_exporter": "python",
   "pygments_lexer": "ipython3",
   "version": "3.11.4"
  },
  "orig_nbformat": 4
 },
 "nbformat": 4,
 "nbformat_minor": 2
}
