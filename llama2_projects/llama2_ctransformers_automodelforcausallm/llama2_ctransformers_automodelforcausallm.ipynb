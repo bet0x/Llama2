{
 "cells": [
  {
   "cell_type": "markdown",
   "metadata": {},
   "source": [
    "# Getting started\n",
    "\n",
    "Install following libraries\n",
    "```\n",
    "!pip install ctransformers -q\n",
    "```"
   ]
  },
  {
   "cell_type": "code",
   "execution_count": 4,
   "metadata": {},
   "outputs": [
    {
     "data": {
      "application/vnd.jupyter.widget-view+json": {
       "model_id": "628cb8d874484e2f97849060c7ff67f8",
       "version_major": 2,
       "version_minor": 0
      },
      "text/plain": [
       "Fetching 1 files:   0%|          | 0/1 [00:00<?, ?it/s]"
      ]
     },
     "metadata": {},
     "output_type": "display_data"
    },
    {
     "data": {
      "application/vnd.jupyter.widget-view+json": {
       "model_id": "801c4cdb86164bd69f37910a3bff4d9d",
       "version_major": 2,
       "version_minor": 0
      },
      "text/plain": [
       "Fetching 0 files: 0it [00:00, ?it/s]"
      ]
     },
     "metadata": {},
     "output_type": "display_data"
    }
   ],
   "source": [
    "from ctransformers import AutoModelForCausalLM\n",
    "model = r\"D:/llama2_quantized_models/7B_chat/llama-2-7b-chat.ggmlv3.q5_K_M.bin\"\n",
    "llm = AutoModelForCausalLM.from_pretrained('TheBloke/Llama-2-7B-Chat-GGML', model_file=model)"
   ]
  },
  {
   "cell_type": "code",
   "execution_count": 5,
   "metadata": {},
   "outputs": [
    {
     "name": "stdout",
     "output_type": "stream",
     "text": [
      "\n",
      "Life is hard because it is a test of endurance, courage, and resilience. Every individual faces their own unique challenges, struggles, and obstacles that can seem insurmountable at times. However, these difficulties are an opportunity for growth and self-improvement if faced with the right mindset.\n",
      "What makes life hard?\n",
      "1. Uncertainty and unpredictability: Life is full of unexpected events, twists, and turns that can be challenging to navigate.2. Physical and mental health issues: Illnesses, injuries, and mental health conditions can significantly impact an individual's quality of life.3. Relationship problems: Conflicts, misunderstandings, and betrayal within personal relationships can create emotional turmoil.4. Financial struggles: Money problems, debt, and financial insecurity can cause significant stress and anxiety.5. Lack of purpose or meaning: Feeling aimless or without direction can lead to feelings of unhappiness and dissatisfaction with life.6. Societal expectations and pressure: Expectations from family, peers, and society at large can create undue stress and pressure on individuals."
     ]
    }
   ],
   "source": [
    "for word in llm(\"Why life is hard ?\", stream=True):\n",
    "    print(word, end='')"
   ]
  },
  {
   "cell_type": "markdown",
   "metadata": {},
   "source": []
  }
 ],
 "metadata": {
  "kernelspec": {
   "display_name": "LLAMA",
   "language": "python",
   "name": "python3"
  },
  "language_info": {
   "codemirror_mode": {
    "name": "ipython",
    "version": 3
   },
   "file_extension": ".py",
   "mimetype": "text/x-python",
   "name": "python",
   "nbconvert_exporter": "python",
   "pygments_lexer": "ipython3",
   "version": "3.11.4"
  },
  "orig_nbformat": 4
 },
 "nbformat": 4,
 "nbformat_minor": 2
}
