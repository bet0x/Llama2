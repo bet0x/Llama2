{
 "cells": [
  {
   "cell_type": "code",
   "execution_count": null,
   "metadata": {},
   "outputs": [],
   "source": [
    "!py -3.11 -m pip install ipywidgets"
   ]
  },
  {
   "cell_type": "code",
   "execution_count": null,
   "metadata": {},
   "outputs": [],
   "source": [
    "from ctransformers import AutoModelForCausalLM\n"
   ]
  },
  {
   "cell_type": "code",
   "execution_count": 9,
   "metadata": {},
   "outputs": [
    {
     "name": "stderr",
     "output_type": "stream",
     "text": [
      "Downloading (…)d81a48bd/config.json: 100%|██████████| 29.0/29.0 [00:00<?, ?B/s]\n",
      "Fetching 1 files: 100%|██████████| 1/1 [00:01<00:00,  1.77s/it]\n",
      "Downloading (…)instruct.Q4_K_M.gguf: 100%|██████████| 4.08G/4.08G [03:07<00:00, 21.8MB/s]\n",
      "Fetching 1 files: 100%|██████████| 1/1 [03:08<00:00, 188.51s/it]\n"
     ]
    },
    {
     "ename": "RuntimeError",
     "evalue": "Failed to create LLM 'llama' from 'C:\\Users\\jlukas\\.cache\\huggingface\\hub\\models--TheBloke--CodeLlama-7B-Instruct-GGUF\\snapshots\\fe889512ddaf18ea94c467bbed4d1aacd81a48bd\\codellama-7b-instruct.Q4_K_M.gguf'.",
     "output_type": "error",
     "traceback": [
      "\u001b[1;31m---------------------------------------------------------------------------\u001b[0m",
      "\u001b[1;31mRuntimeError\u001b[0m                              Traceback (most recent call last)",
      "\u001b[1;32md:\\AI_CTS\\Llama2\\llama2_projects\\llama2_ctransformers_automodelforcausallm\\llama2_ctransformers_gguf_model.ipynb Cell 3\u001b[0m line \u001b[0;36m1\n\u001b[1;32m----> <a href='vscode-notebook-cell:/d%3A/AI_CTS/Llama2/llama2_projects/llama2_ctransformers_automodelforcausallm/llama2_ctransformers_gguf_model.ipynb#W1sZmlsZQ%3D%3D?line=0'>1</a>\u001b[0m llm \u001b[39m=\u001b[39m AutoModelForCausalLM\u001b[39m.\u001b[39;49mfrom_pretrained(\u001b[39m'\u001b[39;49m\u001b[39mTheBloke/CodeLlama-7B-Instruct-GGUF\u001b[39;49m\u001b[39m'\u001b[39;49m, model_file\u001b[39m=\u001b[39;49m\u001b[39m\"\u001b[39;49m\u001b[39mcodellama-7b-instruct.Q4_K_M.gguf\u001b[39;49m\u001b[39m\"\u001b[39;49m, model_type\u001b[39m=\u001b[39;49m\u001b[39m\"\u001b[39;49m\u001b[39mllama\u001b[39;49m\u001b[39m\"\u001b[39;49m, gpu_layers\u001b[39m=\u001b[39;49m\u001b[39m0\u001b[39;49m)\n",
      "File \u001b[1;32mc:\\Users\\jlukas\\AppData\\Local\\Programs\\Python\\Python311\\Lib\\site-packages\\ctransformers\\hub.py:157\u001b[0m, in \u001b[0;36mAutoModelForCausalLM.from_pretrained\u001b[1;34m(cls, model_path_or_repo_id, model_type, model_file, config, lib, local_files_only, **kwargs)\u001b[0m\n\u001b[0;32m    150\u001b[0m \u001b[39melif\u001b[39;00m path_type \u001b[39m==\u001b[39m \u001b[39m\"\u001b[39m\u001b[39mrepo\u001b[39m\u001b[39m\"\u001b[39m:\n\u001b[0;32m    151\u001b[0m     model_path \u001b[39m=\u001b[39m \u001b[39mcls\u001b[39m\u001b[39m.\u001b[39m_find_model_path_from_repo(\n\u001b[0;32m    152\u001b[0m         model_path_or_repo_id,\n\u001b[0;32m    153\u001b[0m         model_file,\n\u001b[0;32m    154\u001b[0m         local_files_only\u001b[39m=\u001b[39mlocal_files_only,\n\u001b[0;32m    155\u001b[0m     )\n\u001b[1;32m--> 157\u001b[0m \u001b[39mreturn\u001b[39;00m LLM(\n\u001b[0;32m    158\u001b[0m     model_path\u001b[39m=\u001b[39;49mmodel_path,\n\u001b[0;32m    159\u001b[0m     model_type\u001b[39m=\u001b[39;49mmodel_type,\n\u001b[0;32m    160\u001b[0m     config\u001b[39m=\u001b[39;49mconfig\u001b[39m.\u001b[39;49mconfig,\n\u001b[0;32m    161\u001b[0m     lib\u001b[39m=\u001b[39;49mlib,\n\u001b[0;32m    162\u001b[0m )\n",
      "File \u001b[1;32mc:\\Users\\jlukas\\AppData\\Local\\Programs\\Python\\Python311\\Lib\\site-packages\\ctransformers\\llm.py:214\u001b[0m, in \u001b[0;36mLLM.__init__\u001b[1;34m(self, model_path, model_type, config, lib)\u001b[0m\n\u001b[0;32m    207\u001b[0m \u001b[39mself\u001b[39m\u001b[39m.\u001b[39m_llm \u001b[39m=\u001b[39m \u001b[39mself\u001b[39m\u001b[39m.\u001b[39m_lib\u001b[39m.\u001b[39mctransformers_llm_create(\n\u001b[0;32m    208\u001b[0m     model_path\u001b[39m.\u001b[39mencode(),\n\u001b[0;32m    209\u001b[0m     model_type\u001b[39m.\u001b[39mencode(),\n\u001b[0;32m    210\u001b[0m     config\u001b[39m.\u001b[39mcontext_length,\n\u001b[0;32m    211\u001b[0m     config\u001b[39m.\u001b[39mgpu_layers,\n\u001b[0;32m    212\u001b[0m )\n\u001b[0;32m    213\u001b[0m \u001b[39mif\u001b[39;00m \u001b[39mself\u001b[39m\u001b[39m.\u001b[39m_llm \u001b[39mis\u001b[39;00m \u001b[39mNone\u001b[39;00m:\n\u001b[1;32m--> 214\u001b[0m     \u001b[39mraise\u001b[39;00m \u001b[39mRuntimeError\u001b[39;00m(\n\u001b[0;32m    215\u001b[0m         \u001b[39mf\u001b[39m\u001b[39m\"\u001b[39m\u001b[39mFailed to create LLM \u001b[39m\u001b[39m'\u001b[39m\u001b[39m{\u001b[39;00mmodel_type\u001b[39m}\u001b[39;00m\u001b[39m'\u001b[39m\u001b[39m from \u001b[39m\u001b[39m'\u001b[39m\u001b[39m{\u001b[39;00mmodel_path\u001b[39m}\u001b[39;00m\u001b[39m'\u001b[39m\u001b[39m.\u001b[39m\u001b[39m\"\u001b[39m\n\u001b[0;32m    216\u001b[0m     )\n",
      "\u001b[1;31mRuntimeError\u001b[0m: Failed to create LLM 'llama' from 'C:\\Users\\jlukas\\.cache\\huggingface\\hub\\models--TheBloke--CodeLlama-7B-Instruct-GGUF\\snapshots\\fe889512ddaf18ea94c467bbed4d1aacd81a48bd\\codellama-7b-instruct.Q4_K_M.gguf'."
     ]
    }
   ],
   "source": [
    "llm = AutoModelForCausalLM.from_pretrained('TheBloke/CodeLlama-7B-Instruct-GGUF', model_file=\"codellama-7b-instruct.Q4_K_M.gguf\", model_type=\"llama\", gpu_layers=0)"
   ]
  },
  {
   "cell_type": "code",
   "execution_count": null,
   "metadata": {},
   "outputs": [],
   "source": []
  }
 ],
 "metadata": {
  "kernelspec": {
   "display_name": "Python 3",
   "language": "python",
   "name": "python3"
  },
  "language_info": {
   "codemirror_mode": {
    "name": "ipython",
    "version": 3
   },
   "file_extension": ".py",
   "mimetype": "text/x-python",
   "name": "python",
   "nbconvert_exporter": "python",
   "pygments_lexer": "ipython3",
   "version": "3.11.1"
  },
  "orig_nbformat": 4
 },
 "nbformat": 4,
 "nbformat_minor": 2
}
